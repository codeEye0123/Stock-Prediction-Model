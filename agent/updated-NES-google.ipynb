{
 "cells": [
  {
   "cell_type": "code",
   "execution_count": 2,
   "metadata": {
    "inputHidden": false,
    "outputHidden": false
   },
   "outputs": [],
   "source": [
    "import numpy as np\n",
    "import matplotlib.pyplot as plt\n",
    "import seaborn as sns\n",
    "sns.set()"
   ]
  },
  {
   "cell_type": "code",
   "execution_count": 21,
   "metadata": {
    "inputHidden": false,
    "outputHidden": false
   },
   "outputs": [
    {
     "data": {
      "image/png": "[encoded data removed]",
      "text/plain": [
       "<Figure size 720x360 with 1 Axes>"
      ]
     },
     "metadata": {
      "needs_background": "light"
     },
     "output_type": "display_data"
    }
   ],
   "source": [
    "plt.figure(figsize = (10, 5))\n",
    "bins = np.linspace(-10, 10, 100)\n",
    "\n",
    "solution = np.random.randn(100)\n",
    "w = np.random.randn(100)\n",
    "\n",
    "plt.hist(solution, bins, alpha = 0.5, label = 'solution', color = 'r')\n",
    "plt.hist(w, bins, alpha = 0.5, label = 'random', color = 'y')\n",
    "plt.legend()\n",
    "plt.show()"
   ]
  },
  {
   "cell_type": "code",
   "execution_count": 22,
   "metadata": {
    "inputHidden": false,
    "outputHidden": false
   },
   "outputs": [
    {
     "name": "stdout",
     "output_type": "stream",
     "text": [
      "iter 1000. w: 0.0952791586701015, solution: 0.5720518054873052, reward: -20.148099\n",
      "iter 2000. w: 0.5750455468679501, solution: 0.5720518054873052, reward: -0.008058\n",
      "iter 3000. w: 0.5751585748688035, solution: 0.5720518054873052, reward: -0.008793\n",
      "iter 4000. w: 0.5665604300033952, solution: 0.5720518054873052, reward: -0.007711\n",
      "iter 5000. w: 0.5619489293298067, solution: 0.5720518054873052, reward: -0.005604\n"
     ]
    }
   ],
   "source": [
    "def f(w):\n",
    "    return -np.sum(np.square(solution - w))\n",
    "\n",
    "\n",
    "npop = 50\n",
    "sigma = 0.1\n",
    "alpha = 0.001\n",
    "\n",
    "for i in range(5000):\n",
    "\n",
    "    if (i + 1) % 1000 == 0:\n",
    "        print(\n",
    "            'iter %d. w: %s, solution: %s, reward: %f'\n",
    "            % (i + 1, str(w[-1]), str(solution[-1]), f(w))\n",
    "        )\n",
    "    N = np.random.randn(npop, 100)\n",
    "    R = np.zeros(npop)\n",
    "    for j in range(npop):\n",
    "        w_try = w + sigma * N[j]\n",
    "        R[j] = f(w_try)\n",
    "\n",
    "    A = (R - np.mean(R)) / np.std(R)\n",
    "    w = w + alpha / (npop * sigma) * np.dot(N.T, A)"
   ]
  },
  {
   "cell_type": "code",
   "execution_count": 12,
   "metadata": {
    "inputHidden": false,
    "outputHidden": false
   },
   "outputs": [
    {
     "data": {
      "image/png": "[encoded data removed]",
      "text/plain": [
       "<Figure size 720x360 with 1 Axes>"
      ]
     },
     "metadata": {
      "needs_background": "light"
     },
     "output_type": "display_data"
    }
   ],
   "source": [
    "'''\n",
    "I want to compare my first two individuals with my real w\n",
    "'''\n",
    "plt.figure(figsize=(10,5))\n",
    "\n",
    "sigma = 0.1\n",
    "N = np.random.randn(npop, 100)\n",
    "individuals = []\n",
    "for j in range(2):\n",
    "    individuals.append(w + sigma * N[j])\n",
    "    \n",
    "    \n",
    "plt.hist(w, bins, alpha=0.5, label='w',color='r')\n",
    "plt.hist(individuals[0], bins, alpha=0.5, label='individual 1')\n",
    "plt.hist(individuals[1], bins, alpha=0.5, label='individual 2')\n",
    "plt.legend()\n",
    "plt.show()"
   ]
  },
  {
   "cell_type": "code",
   "execution_count": 29,
   "metadata": {
    "inputHidden": false,
    "outputHidden": false
   },
   "outputs": [
    {
     "data": {
      "text/html": [
       "<div>\n",
       "<style scoped>\n",
       "    .dataframe tbody tr th:only-of-type {\n",
       "        vertical-align: middle;\n",
       "    }\n",
       "\n",
       "    .dataframe tbody tr th {\n",
       "        vertical-align: top;\n",
       "    }\n",
       "\n",
       "    .dataframe thead th {\n",
       "        text-align: right;\n",
       "    }\n",
       "</style>\n",
       "<table border=\"1\" class=\"dataframe\">\n",
       "  <thead>\n",
       "    <tr style=\"text-align: right;\">\n",
       "      <th></th>\n",
       "      <th>Date</th>\n",
       "      <th>Open</th>\n",
       "      <th>High</th>\n",
       "      <th>Low</th>\n",
       "      <th>Close</th>\n",
       "      <th>Adj Close</th>\n",
       "      <th>Volume</th>\n",
       "    </tr>\n",
       "  </thead>\n",
       "  <tbody>\n",
       "    <tr>\n",
       "      <th>0</th>\n",
       "      <td>2017-10-16</td>\n",
       "      <td>992.099976</td>\n",
       "      <td>993.906982</td>\n",
       "      <td>984.000000</td>\n",
       "      <td>992.000000</td>\n",
       "      <td>992.000000</td>\n",
       "      <td>910500</td>\n",
       "    </tr>\n",
       "    <tr>\n",
       "      <th>1</th>\n",
       "      <td>2017-10-17</td>\n",
       "      <td>990.289978</td>\n",
       "      <td>996.440002</td>\n",
       "      <td>988.590027</td>\n",
       "      <td>992.179993</td>\n",
       "      <td>992.179993</td>\n",
       "      <td>1290200</td>\n",
       "    </tr>\n",
       "    <tr>\n",
       "      <th>2</th>\n",
       "      <td>2017-10-18</td>\n",
       "      <td>991.770020</td>\n",
       "      <td>996.719971</td>\n",
       "      <td>986.974976</td>\n",
       "      <td>992.809998</td>\n",
       "      <td>992.809998</td>\n",
       "      <td>1057600</td>\n",
       "    </tr>\n",
       "    <tr>\n",
       "      <th>3</th>\n",
       "      <td>2017-10-19</td>\n",
       "      <td>986.000000</td>\n",
       "      <td>988.880005</td>\n",
       "      <td>978.390015</td>\n",
       "      <td>984.450012</td>\n",
       "      <td>984.450012</td>\n",
       "      <td>1313600</td>\n",
       "    </tr>\n",
       "    <tr>\n",
       "      <th>4</th>\n",
       "      <td>2017-10-20</td>\n",
       "      <td>989.440002</td>\n",
       "      <td>991.000000</td>\n",
       "      <td>984.580017</td>\n",
       "      <td>988.200012</td>\n",
       "      <td>988.200012</td>\n",
       "      <td>1183200</td>\n",
       "    </tr>\n",
       "  </tbody>\n",
       "</table>\n",
       "</div>"
      ],
      "text/plain": [
       "         Date        Open        High         Low       Close   Adj Close  \\\n",
       "0  2017-10-16  992.099976  993.906982  984.000000  992.000000  992.000000   \n",
       "1  2017-10-17  990.289978  996.440002  988.590027  992.179993  992.179993   \n",
       "2  2017-10-18  991.770020  996.719971  986.974976  992.809998  992.809998   \n",
       "3  2017-10-19  986.000000  988.880005  978.390015  984.450012  984.450012   \n",
       "4  2017-10-20  989.440002  991.000000  984.580017  988.200012  988.200012   \n",
       "\n",
       "    Volume  \n",
       "0   910500  \n",
       "1  1290200  \n",
       "2  1057600  \n",
       "3  1313600  \n",
       "4  1183200  "
      ]
     },
     "execution_count": 29,
     "metadata": {},
     "output_type": "execute_result"
    }
   ],
   "source": [
    "import pandas as pd\n",
    "google = pd.read_csv('/Users/huseinzolkepli/Desktop/GOOG.csv')\n",
    "google.head()"
   ]
  },
  {
   "cell_type": "code",
   "execution_count": 58,
   "metadata": {
    "inputHidden": false,
    "outputHidden": false
   },
   "outputs": [],
   "source": [
    "def get_state(data, t, n):\n",
    "    d = t - n + 1\n",
    "    block = data[d : t + 1] if d >= 0 else -d * [data[0]] + data[: t + 1]\n",
    "    res = []\n",
    "    for i in range(n - 1):\n",
    "        res.append(block[i + 1] - block[i])\n",
    "    return np.array([res])"
   ]
  },
  {
   "cell_type": "code",
   "execution_count": 60,
   "metadata": {
    "inputHidden": false,
    "outputHidden": false
   },
   "outputs": [
    {
     "data": {
      "text/plain": [
       "array([[0., 0., 0., 0., 0., 0., 0., 0., 0.]])"
      ]
     },
     "execution_count": 60,
     "metadata": {},
     "output_type": "execute_result"
    }
   ],
   "source": [
    "close = google.Close.values.tolist()\n",
    "get_state(close, 0, 10)"
   ]
  },
  {
   "cell_type": "code",
   "execution_count": 61,
   "metadata": {
    "inputHidden": false,
    "outputHidden": false
   },
   "outputs": [
    {
     "data": {
      "text/plain": [
       "array([[0.      , 0.      , 0.      , 0.      , 0.      , 0.      ,\n",
       "        0.      , 0.      , 0.179993]])"
      ]
     },
     "execution_count": 61,
     "metadata": {},
     "output_type": "execute_result"
    }
   ],
   "source": [
    "get_state(close, 1, 10)"
   ]
  },
  {
   "cell_type": "code",
   "execution_count": 62,
   "metadata": {
    "inputHidden": false,
    "outputHidden": false
   },
   "outputs": [
    {
     "data": {
      "text/plain": [
       "array([[0.      , 0.      , 0.      , 0.      , 0.      , 0.      ,\n",
       "        0.      , 0.179993, 0.630005]])"
      ]
     },
     "execution_count": 62,
     "metadata": {},
     "output_type": "execute_result"
    }
   ],
   "source": [
    "get_state(close, 2, 10)"
   ]
  },
  {
   "cell_type": "code",
   "execution_count": 63,
   "metadata": {
    "inputHidden": false,
    "outputHidden": false
   },
   "outputs": [],
   "source": [
    "class Deep_Evolution_Strategy:\n",
    "    def __init__(\n",
    "        self, weights, reward_function, population_size, sigma, learning_rate\n",
    "    ):\n",
    "        self.weights = weights\n",
    "        self.reward_function = reward_function\n",
    "        self.population_size = population_size\n",
    "        self.sigma = sigma\n",
    "        self.learning_rate = learning_rate\n",
    "\n",
    "    def _get_weight_from_population(self, weights, population):\n",
    "        weights_population = []\n",
    "        for index, i in enumerate(population):\n",
    "            jittered = self.sigma * i\n",
    "            weights_population.append(weights[index] + jittered)\n",
    "        return weights_population\n",
    "\n",
    "    def get_weights(self):\n",
    "        return self.weights\n",
    "\n",
    "    def train(self, epoch = 100, print_every = 1):\n",
    "        lasttime = time.time()\n",
    "        for i in range(epoch):\n",
    "            population = []\n",
    "            rewards = np.zeros(self.population_size)\n",
    "            for k in range(self.population_size):\n",
    "                x = []\n",
    "                for w in self.weights:\n",
    "                    x.append(np.random.randn(*w.shape))\n",
    "                population.append(x)\n",
    "            for k in range(self.population_size):\n",
    "                weights_population = self._get_weight_from_population(\n",
    "                    self.weights, population[k]\n",
    "                )\n",
    "                rewards[k] = self.reward_function(weights_population)\n",
    "            rewards = (rewards - np.mean(rewards)) / np.std(rewards)\n",
    "            for index, w in enumerate(self.weights):\n",
    "                A = np.array([p[index] for p in population])\n",
    "                self.weights[index] = (\n",
    "                    w\n",
    "                    + self.learning_rate\n",
    "                    / (self.population_size * self.sigma)\n",
    "                    * np.dot(A.T, rewards).T\n",
    "                )\n",
    "            if (i + 1) % print_every == 0:\n",
    "                print(\n",
    "                    'iter %d. reward: %f'\n",
    "                    % (i + 1, self.reward_function(self.weights))\n",
    "                )\n",
    "        print('time taken to train:', time.time() - lasttime, 'seconds')"
   ]
  },
  {
   "cell_type": "code",
   "execution_count": 64,
   "metadata": {
    "inputHidden": false,
    "outputHidden": false
   },
   "outputs": [],
   "source": [
    "class Model:\n",
    "    def __init__(self, input_size, layer_size, output_size):\n",
    "        self.weights = [\n",
    "            np.random.randn(input_size, layer_size),\n",
    "            np.random.randn(layer_size, output_size),\n",
    "            np.random.randn(layer_size, 1),\n",
    "            np.random.randn(1, layer_size),\n",
    "        ]\n",
    "\n",
    "    def predict(self, inputs):\n",
    "        feed = np.dot(inputs, self.weights[0]) + self.weights[-1]\n",
    "        decision = np.dot(feed, self.weights[1])\n",
    "        buy = np.dot(feed, self.weights[2])\n",
    "        return decision, buy\n",
    "\n",
    "    def get_weights(self):\n",
    "        return self.weights\n",
    "\n",
    "    def set_weights(self, weights):\n",
    "        self.weights = weights"
   ]
  },
  {
   "cell_type": "code",
   "execution_count": 65,
   "metadata": {
    "inputHidden": false,
    "outputHidden": false
   },
   "outputs": [],
   "source": [
    "window_size = 30\n",
    "model = Model(window_size, 500, 3)"
   ]
  },
  {
   "cell_type": "code",
   "execution_count": 67,
   "metadata": {
    "inputHidden": false,
    "outputHidden": false
   },
   "outputs": [
    {
     "data": {
      "text/plain": [
       "-89.2658852200001"
      ]
     },
     "execution_count": 67,
     "metadata": {},
     "output_type": "execute_result"
    }
   ],
   "source": [
    "initial_money = 10000\n",
    "starting_money = initial_money\n",
    "len_close = len(close) - 1\n",
    "weight = model\n",
    "skip = 1\n",
    "\n",
    "state = get_state(close, 0, window_size + 1)\n",
    "inventory = []\n",
    "quantity = 0\n",
    "\n",
    "max_buy = 5\n",
    "max_sell = 5\n",
    "\n",
    "\n",
    "def act(model, sequence):\n",
    "    decision, buy = model.predict(np.array(sequence))\n",
    "    return np.argmax(decision[0]), int(buy[0])\n",
    "\n",
    "\n",
    "for t in range(0, len_close, skip):\n",
    "    action, buy = act(weight, state)\n",
    "    next_state = get_state(close, t + 1, window_size + 1)\n",
    "    if action == 1 and initial_money >= close[t]:\n",
    "        if buy < 0:\n",
    "            buy = 1\n",
    "        if buy > max_buy:\n",
    "            buy_units = max_buy\n",
    "        else:\n",
    "            buy_units = buy\n",
    "        total_buy = buy_units * close[t]\n",
    "        initial_money -= total_buy\n",
    "        inventory.append(total_buy)\n",
    "        quantity += buy_units\n",
    "    elif action == 2 and len(inventory) > 0:\n",
    "        if quantity > max_sell:\n",
    "            sell_units = max_sell\n",
    "        else:\n",
    "            sell_units = quantity\n",
    "        quantity -= sell_units\n",
    "        total_sell = sell_units * close[t]\n",
    "        initial_money += total_sell\n",
    "\n",
    "    state = next_state\n",
    "((initial_money - starting_money) / starting_money) * 100"
   ]
  },
  {
   "cell_type": "code",
   "execution_count": 77,
   "metadata": {
    "inputHidden": false,
    "outputHidden": false
   },
   "outputs": [],
   "source": [
    "import time\n",
    "\n",
    "\n",
    "class Agent:\n",
    "\n",
    "    POPULATION_SIZE = 15\n",
    "    SIGMA = 0.1\n",
    "    LEARNING_RATE = 0.03\n",
    "\n",
    "    def __init__(\n",
    "        self, model, money, max_buy, max_sell, close, window_size, skip\n",
    "    ):\n",
    "        self.window_size = window_size\n",
    "        self.skip = skip\n",
    "        self.close = close\n",
    "        self.model = model\n",
    "        self.initial_money = money\n",
    "        self.max_buy = max_buy\n",
    "        self.max_sell = max_sell\n",
    "        self.es = Deep_Evolution_Strategy(\n",
    "            self.model.get_weights(),\n",
    "            self.get_reward,\n",
    "            self.POPULATION_SIZE,\n",
    "            self.SIGMA,\n",
    "            self.LEARNING_RATE,\n",
    "        )\n",
    "\n",
    "    def act(self, sequence):\n",
    "        decision, buy = self.model.predict(np.array(sequence))\n",
    "        return np.argmax(decision[0]), int(buy[0])\n",
    "\n",
    "    def get_reward(self, weights):\n",
    "        initial_money = self.initial_money\n",
    "        starting_money = initial_money\n",
    "        len_close = len(self.close) - 1\n",
    "\n",
    "        self.model.weights = weights\n",
    "        state = get_state(self.close, 0, self.window_size + 1)\n",
    "        inventory = []\n",
    "        quantity = 0\n",
    "        for t in range(0, len_close, self.skip):\n",
    "            action, buy = self.act(state)\n",
    "            next_state = get_state(self.close, t + 1, self.window_size + 1)\n",
    "            if action == 1 and initial_money >= self.close[t]:\n",
    "                if buy < 0:\n",
    "                    buy = 1\n",
    "                if buy > self.max_buy:\n",
    "                    buy_units = self.max_buy\n",
    "                else:\n",
    "                    buy_units = buy\n",
    "                total_buy = buy_units * self.close[t]\n",
    "                initial_money -= total_buy\n",
    "                inventory.append(total_buy)\n",
    "                quantity += buy_units\n",
    "            elif action == 2 and len(inventory) > 0:\n",
    "                if quantity > self.max_sell:\n",
    "                    sell_units = self.max_sell\n",
    "                else:\n",
    "                    sell_units = quantity\n",
    "                quantity -= sell_units\n",
    "                total_sell = sell_units * self.close[t]\n",
    "                initial_money += total_sell\n",
    "\n",
    "            state = next_state\n",
    "        return ((initial_money - starting_money) / starting_money) * 100\n",
    "\n",
    "    def fit(self, iterations, checkpoint):\n",
    "        self.es.train(iterations, print_every = checkpoint)\n",
    "\n",
    "    def buy(self):\n",
    "        initial_money = self.initial_money\n",
    "        len_close = len(self.close) - 1\n",
    "        state = get_state(self.close, 0, self.window_size + 1)\n",
    "        starting_money = initial_money\n",
    "        states_sell = []\n",
    "        states_buy = []\n",
    "        inventory = []\n",
    "        quantity = 0\n",
    "        for t in range(0, len_close, self.skip):\n",
    "            action, buy = self.act(state)\n",
    "            next_state = get_state(self.close, t + 1, self.window_size + 1)\n",
    "            if action == 1 and initial_money >= self.close[t]:\n",
    "                if buy < 0:\n",
    "                    buy = 1\n",
    "                if buy > self.max_buy:\n",
    "                    buy_units = self.max_buy\n",
    "                else:\n",
    "                    buy_units = buy\n",
    "                total_buy = buy_units * self.close[t]\n",
    "                initial_money -= total_buy\n",
    "                inventory.append(total_buy)\n",
    "                quantity += buy_units\n",
    "                states_buy.append(t)\n",
    "                print(\n",
    "                    'day %d: buy %d units at price %f, total balance %f'\n",
    "                    % (t, buy_units, total_buy, initial_money)\n",
    "                )\n",
    "            elif action == 2 and len(inventory) > 0:\n",
    "                bought_price = inventory.pop(0)\n",
    "                if quantity > self.max_sell:\n",
    "                    sell_units = self.max_sell\n",
    "                else:\n",
    "                    sell_units = quantity\n",
    "                if sell_units < 1:\n",
    "                    continue\n",
    "                quantity -= sell_units\n",
    "                total_sell = sell_units * self.close[t]\n",
    "                initial_money += total_sell\n",
    "                states_sell.append(t)\n",
    "                try:\n",
    "                    invest = ((total_sell - bought_price) / bought_price) * 100\n",
    "                except:\n",
    "                    invest = 0\n",
    "                print(\n",
    "                    'day %d, sell %d units at price %f, investment %f %%, total balance %f,'\n",
    "                    % (t, sell_units, total_sell, invest, initial_money)\n",
    "                )\n",
    "            state = next_state\n",
    "\n",
    "        invest = ((initial_money - starting_money) / starting_money) * 100\n",
    "        print(\n",
    "            '\\ntotal gained %f, total investment %f %%'\n",
    "            % (initial_money - starting_money, invest)\n",
    "        )\n",
    "        plt.figure(figsize = (20, 10))\n",
    "        plt.plot(close, label = 'true close', c = 'g')\n",
    "        plt.plot(\n",
    "            close, 'X', label = 'predict buy', markevery = states_buy, c = 'b'\n",
    "        )\n",
    "        plt.plot(\n",
    "            close, 'o', label = 'predict sell', markevery = states_sell, c = 'r'\n",
    "        )\n",
    "        plt.legend()\n",
    "        plt.show()"
   ]
  },
  {
   "cell_type": "code",
   "execution_count": 78,
   "metadata": {
    "inputHidden": false,
    "outputHidden": false
   },
   "outputs": [],
   "source": [
    "model = Model(input_size = window_size, layer_size = 500, output_size = 3)\n",
    "agent = Agent(\n",
    "    model = model,\n",
    "    money = 10000,\n",
    "    max_buy = 5,\n",
    "    max_sell = 5,\n",
    "    close = close,\n",
    "    window_size = window_size,\n",
    "    skip = 1,\n",
    ")"
   ]
  },
  {
   "cell_type": "code",
   "execution_count": 79,
   "metadata": {
    "inputHidden": false,
    "outputHidden": false
   },
   "outputs": [
    {
     "name": "stdout",
     "output_type": "stream",
     "text": [
      "iter 10. reward: 36.181611\n",
      "iter 20. reward: 50.767101\n",
      "iter 30. reward: 65.467698\n",
      "iter 40. reward: 71.316103\n",
      "iter 50. reward: 82.881994\n",
      "iter 60. reward: 84.293704\n",
      "iter 70. reward: 78.501997\n",
      "iter 80. reward: 94.488579\n",
      "iter 90. reward: 86.526799\n",
      "iter 100. reward: 85.882890\n",
      "iter 110. reward: 86.063284\n",
      "iter 120. reward: 90.334301\n",
      "iter 130. reward: 85.850098\n",
      "iter 140. reward: 91.399606\n",
      "iter 150. reward: 87.862805\n",
      "iter 160. reward: 97.226486\n",
      "iter 170. reward: 86.767297\n",
      "iter 180. reward: 97.016782\n",
      "iter 190. reward: 97.843791\n",
      "iter 200. reward: 89.146606\n",
      "iter 210. reward: 96.508885\n",
      "iter 220. reward: 97.765979\n",
      "iter 230. reward: 98.256375\n",
      "iter 240. reward: 99.942482\n",
      "iter 250. reward: 94.536183\n",
      "iter 260. reward: 96.916185\n",
      "iter 270. reward: 93.193185\n",
      "iter 280. reward: 100.844085\n",
      "iter 290. reward: 100.994682\n",
      "iter 300. reward: 101.523774\n",
      "iter 310. reward: 102.090896\n",
      "iter 320. reward: 102.176091\n",
      "iter 330. reward: 92.306981\n",
      "iter 340. reward: 105.409190\n",
      "iter 350. reward: 103.159886\n",
      "iter 360. reward: 99.091287\n",
      "iter 370. reward: 108.475085\n",
      "iter 380. reward: 102.349682\n",
      "iter 390. reward: 110.289382\n",
      "iter 400. reward: 103.371389\n",
      "iter 410. reward: 110.951287\n",
      "iter 420. reward: 111.561078\n",
      "iter 430. reward: 112.275285\n",
      "iter 440. reward: 113.112587\n",
      "iter 450. reward: 110.838887\n",
      "iter 460. reward: 111.243782\n",
      "iter 470. reward: 112.924874\n",
      "iter 480. reward: 111.705677\n",
      "iter 490. reward: 110.903074\n",
      "iter 500. reward: 112.986871\n",
      "time taken to train: 60.56475520133972 seconds\n"
     ]
    }
   ],
   "source": [
    "agent.fit(iterations = 500, checkpoint = 10)"
   ]
  },
  {
   "cell_type": "code",
   "execution_count": 80,
   "metadata": {
    "inputHidden": false,
    "outputHidden": false
   },
   "outputs": [
    {
     "name": "stdout",
     "output_type": "stream",
     "text": [
      "day 0: buy 1 units at price 992.000000, total balance 9008.000000\n",
      "day 1: buy 1 units at price 992.179993, total balance 8015.820007\n",
      "day 2: buy 1 units at price 992.809998, total balance 7023.010009\n",
      "day 3: buy 5 units at price 4922.250060, total balance 2100.759949\n",
      "day 4, sell 5 units at price 4941.000060, investment 398.084683 %, total balance 7041.760009,\n",
      "day 5: buy 5 units at price 4842.250060, total balance 2199.509949\n",
      "day 7: buy 5 units at price 4866.650085, total balance -2667.140136\n",
      "day 9, sell 5 units at price 5096.350100, investment 413.651770 %, total balance 2429.209964,\n",
      "day 10: buy 5 units at price 5085.549925, total balance -2656.339961\n",
      "day 12, sell 5 units at price 5127.500000, investment 416.463373 %, total balance 2471.160039,\n",
      "day 13, sell 5 units at price 5127.899780, investment 4.177962 %, total balance 7599.059819,\n",
      "day 14, sell 3 units at price 3097.439940, investment -36.033045 %, total balance 10696.499759,\n",
      "day 22: buy 1 units at price 1020.909973, total balance 9675.589786\n",
      "day 24: buy 1 units at price 1019.090027, total balance 8656.499759\n",
      "day 25: buy 5 units at price 5091.900025, total balance 3564.599734\n",
      "day 27: buy 5 units at price 5179.799805, total balance -1615.200071\n",
      "day 29, sell 5 units at price 5271.049805, investment 416.308974 %, total balance 3655.849734,\n",
      "day 30, sell 5 units at price 5237.050170, investment 413.894752 %, total balance 8892.899904,\n",
      "day 33: buy 5 units at price 5050.849915, total balance 3842.049989\n",
      "day 35: buy 5 units at price 5025.750120, total balance -1183.700131\n",
      "day 42, sell 5 units at price 5245.750120, investment 3.021467 %, total balance 4062.049989,\n",
      "day 43, sell 5 units at price 5320.949705, investment 2.725007 %, total balance 9382.999694,\n",
      "day 44, sell 2 units at price 2154.280030, investment -57.348168 %, total balance 11537.279724,\n",
      "day 45: buy 1 units at price 1070.680054, total balance 10466.599670\n",
      "day 48: buy 1 units at price 1060.119995, total balance 9406.479675\n",
      "day 51: buy 5 units at price 5240.700075, total balance 4165.779600\n",
      "day 52: buy 5 units at price 5232.000120, total balance -1066.220520\n",
      "day 56, sell 5 units at price 5511.149900, investment 9.658255 %, total balance 4444.929380,\n",
      "day 57, sell 5 units at price 5534.699705, investment 416.933110 %, total balance 9979.629085,\n",
      "day 58, sell 2 units at price 2212.520020, investment 108.704678 %, total balance 12192.149105,\n",
      "day 59: buy 5 units at price 5513.049925, total balance 6679.099180\n",
      "day 60: buy 5 units at price 5527.600100, total balance 1151.499080\n",
      "day 62: buy 5 units at price 5608.800050, total balance -4457.300970\n",
      "day 69, sell 5 units at price 5851.849975, investment 11.661608 %, total balance 1394.549005,\n",
      "day 70, sell 5 units at price 5879.199830, investment 12.370025 %, total balance 7273.748835,\n",
      "day 71, sell 5 units at price 5877.899780, investment 6.617931 %, total balance 13151.648615,\n",
      "day 72: buy 5 units at price 5818.449705, total balance 7333.198910\n",
      "day 73, sell 5 units at price 5849.699705, investment 5.827115 %, total balance 13182.898615,\n",
      "day 78: buy 5 units at price 5242.899780, total balance 7939.998835\n",
      "day 79: buy 5 units at price 5007.600100, total balance 2932.398735\n",
      "day 80: buy 5 units at price 5188.900145, total balance -2256.501410\n",
      "day 87, sell 5 units at price 5556.699830, investment -0.928901 %, total balance 3300.198420,\n",
      "day 89: buy 1 units at price 1126.790039, total balance 2173.408381\n",
      "day 90, sell 5 units at price 5718.750000, investment -1.713510 %, total balance 7892.158381,\n",
      "day 93: buy 5 units at price 5347.600100, total balance 2544.558281\n",
      "day 96: buy 5 units at price 5475.300295, total balance -2930.742014\n",
      "day 98, sell 5 units at price 5630.000000, investment 7.383323 %, total balance 2699.257986,\n",
      "day 99, sell 5 units at price 5800.200195, investment 15.827943 %, total balance 8499.458181,\n",
      "day 100, sell 5 units at price 5822.500000, investment 12.210677 %, total balance 14321.958181,\n",
      "day 101: buy 1 units at price 1138.170044, total balance 13183.788137\n",
      "day 102, sell 2 units at price 2298.979980, investment 104.029136 %, total balance 15482.768117,\n",
      "day 111: buy 5 units at price 5025.499880, total balance 10457.268237\n",
      "day 113: buy 5 units at price 5158.950195, total balance 5298.318042\n",
      "day 114: buy 5 units at price 5032.349855, total balance 265.968187\n",
      "day 116, sell 5 units at price 5125.700075, investment 1.993835 %, total balance 5391.668262,\n",
      "day 118: buy 1 units at price 1007.039978, total balance 4384.628284\n",
      "day 119: buy 5 units at price 5077.250060, total balance -692.621776\n",
      "day 126, sell 5 units at price 5360.399780, investment 3.904856 %, total balance 4667.778004,\n",
      "day 128, sell 5 units at price 5364.799805, investment 6.606257 %, total balance 10032.577809,\n",
      "day 129, sell 5 units at price 5337.249755, investment 429.993831 %, total balance 15369.827564,\n",
      "day 131, sell 1 units at price 1021.179993, investment -79.887144 %, total balance 16391.007557,\n",
      "day 132: buy 1 units at price 1040.040039, total balance 15350.967518\n",
      "day 135, sell 1 units at price 1037.310059, investment -0.262488 %, total balance 16388.277577,\n",
      "day 136: buy 5 units at price 5121.900025, total balance 11266.377552\n",
      "day 137: buy 1 units at price 1023.719971, total balance 10242.657581\n",
      "day 138: buy 5 units at price 5241.049805, total balance 5001.607776\n",
      "day 139: buy 5 units at price 5273.950195, total balance -272.342419\n",
      "day 141, sell 5 units at price 5413.800050, investment 5.699057 %, total balance 5141.457631,\n",
      "day 142, sell 5 units at price 5487.849730, investment 436.069422 %, total balance 10629.307361,\n",
      "day 144: buy 1 units at price 1100.199951, total balance 9529.107410\n",
      "day 147: buy 1 units at price 1078.589966, total balance 8450.517444\n",
      "day 148: buy 5 units at price 5331.799925, total balance 3118.717519\n",
      "day 150: buy 5 units at price 5348.649900, total balance -2229.932381\n",
      "day 159, sell 5 units at price 5698.300170, investment 8.724404 %, total balance 3468.367789,\n",
      "day 161, sell 5 units at price 5619.299925, investment 6.548218 %, total balance 9087.667714,\n",
      "day 162: buy 5 units at price 5604.349975, total balance 3483.317739\n",
      "day 168: buy 1 units at price 1173.459961, total balance 2309.857778\n",
      "day 170, sell 5 units at price 5849.199830, investment 431.648799 %, total balance 8159.057608,\n",
      "day 171, sell 5 units at price 5788.300170, investment 436.654368 %, total balance 13947.357778,\n",
      "day 172, sell 4 units at price 4621.919920, investment -13.314078 %, total balance 18569.277698,\n",
      "day 173: buy 5 units at price 5624.050295, total balance 12945.227403\n",
      "day 175: buy 5 units at price 5519.899900, total balance 7425.327503\n",
      "day 176: buy 5 units at price 5571.099855, total balance 1854.227648\n",
      "day 179: buy 5 units at price 5514.450075, total balance -3660.222427\n",
      "day 184, sell 5 units at price 5769.500120, investment 7.868345 %, total balance 2109.277693,\n",
      "day 187: buy 5 units at price 5919.299925, total balance -3810.022232\n",
      "day 194, sell 5 units at price 6318.499755, investment 12.742776 %, total balance 2508.477523,\n",
      "day 195, sell 5 units at price 6341.649780, investment 440.423192 %, total balance 8850.127303,\n",
      "day 196, sell 5 units at price 6192.500000, investment 10.107479 %, total balance 15042.627303,\n",
      "day 197, sell 5 units at price 6098.699950, investment 10.485698 %, total balance 21141.327253,\n",
      "day 204: buy 5 units at price 6228.049925, total balance 14913.277328\n",
      "day 205: buy 5 units at price 6245.499880, total balance 8667.777448\n",
      "day 206: buy 5 units at price 6188.049925, total balance 2479.727523\n",
      "day 207, sell 5 units at price 6175.050050, investment -0.850987 %, total balance 8654.777573,\n",
      "day 208, sell 5 units at price 6210.499880, investment -0.560404 %, total balance 14865.277453,\n",
      "day 209: buy 5 units at price 6071.900025, total balance 8793.377428\n",
      "day 210: buy 5 units at price 6032.449950, total balance 2760.927478\n",
      "day 211: buy 5 units at price 6004.799805, total balance -3243.872327\n",
      "day 219, sell 5 units at price 6246.500245, investment 0.944568 %, total balance 3002.627918,\n",
      "day 220, sell 5 units at price 6195.599975, investment 2.037253 %, total balance 9198.227893,\n",
      "day 221, sell 5 units at price 6090.949705, investment 0.969751 %, total balance 15289.177598,\n",
      "day 227: buy 1 units at price 1177.359985, total balance 14111.817613\n",
      "day 229: buy 5 units at price 5876.649780, total balance 8235.167833\n",
      "day 230: buy 5 units at price 5862.650145, total balance 2372.517688\n",
      "day 231: buy 1 units at price 1156.050049, total balance 1216.467639\n",
      "day 232: buy 1 units at price 1161.219971, total balance 55.247668\n",
      "day 233, sell 5 units at price 5855.449830, investment -2.487177 %, total balance 5910.697498,\n",
      "day 234, sell 5 units at price 5934.349975, investment 404.038701 %, total balance 11845.047473,\n",
      "day 235: buy 5 units at price 5830.449830, total balance 6014.597643\n",
      "day 238: buy 1 units at price 1180.489990, total balance 4834.107653\n",
      "day 242, sell 5 units at price 6000.549925, investment 2.108347 %, total balance 10834.657578,\n",
      "day 243, sell 5 units at price 6014.749755, investment 2.594383 %, total balance 16849.407333,\n",
      "day 245, sell 4 units at price 4629.399904, investment 300.449782 %, total balance 21478.807237,\n",
      "\n",
      "total gained 11478.807237, total investment 114.788072 %\n"
     ]
    },
    {
     "data": {
      "image/png": "[encoded data removed]",
      "text/plain": [
       "<Figure size 1440x720 with 1 Axes>"
      ]
     },
     "metadata": {
      "needs_background": "light"
     },
     "output_type": "display_data"
    }
   ],
   "source": [
    "agent.buy()"
   ]
  },
  {
   "cell_type": "code",
   "execution_count": null,
   "metadata": {
    "inputHidden": false,
    "outputHidden": false
   },
   "outputs": [],
   "source": []
  }
 ],
 "metadata": {
  "kernel_info": {
   "name": "python3"
  },
  "kernelspec": {
   "display_name": "Python 3",
   "language": "python",
   "name": "python3"
  },
  "language_info": {
   "codemirror_mode": {
    "name": "ipython",
    "version": 3
   },
   "file_extension": ".py",
   "mimetype": "text/x-python",
   "name": "python",
   "nbconvert_exporter": "python",
   "pygments_lexer": "ipython3",
   "version": "3.6.8"
  },
  "nteract": {
   "version": "0.11.9"
  }
 },
 "nbformat": 4,
 "nbformat_minor": 4
}
