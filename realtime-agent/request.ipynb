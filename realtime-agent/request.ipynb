{
 "cells": [
  {
   "cell_type": "code",
   "execution_count": 1,
   "metadata": {},
   "outputs": [],
   "source": [
    "import requests\n",
    "import pandas as pd"
   ]
  },
  {
   "cell_type": "markdown",
   "metadata": {},
   "source": [
    "## Let say\n",
    "\n",
    "Let say, TWTR.csv is my realtime data (follow [realtime-evolution-strategy.ipynb](realtime-evolution-strategy.ipynb)), remember, we trained using `Close`, and `Volume` data.\n",
    "\n",
    "So every request means new daily data.\n",
    "\n",
    "You can improve the code to bind historical data with your own database or any websocket streaming data. Imagination is your limit now."
   ]
  },
  {
   "cell_type": "code",
   "execution_count": 2,
   "metadata": {},
   "outputs": [
    {
     "data": {
      "text/html": [
       "<div>\n",
       "<style scoped>\n",
       "    .dataframe tbody tr th:only-of-type {\n",
       "        vertical-align: middle;\n",
       "    }\n",
       "\n",
       "    .dataframe tbody tr th {\n",
       "        vertical-align: top;\n",
       "    }\n",
       "\n",
       "    .dataframe thead th {\n",
       "        text-align: right;\n",
       "    }\n",
       "</style>\n",
       "<table border=\"1\" class=\"dataframe\">\n",
       "  <thead>\n",
       "    <tr style=\"text-align: right;\">\n",
       "      <th></th>\n",
       "      <th>Date</th>\n",
       "      <th>Open</th>\n",
       "      <th>High</th>\n",
       "      <th>Low</th>\n",
       "      <th>Close</th>\n",
       "      <th>Adj Close</th>\n",
       "      <th>Volume</th>\n",
       "    </tr>\n",
       "  </thead>\n",
       "  <tbody>\n",
       "    <tr>\n",
       "      <th>0</th>\n",
       "      <td>2018-05-23</td>\n",
       "      <td>32.700001</td>\n",
       "      <td>33.430000</td>\n",
       "      <td>32.599998</td>\n",
       "      <td>33.419998</td>\n",
       "      <td>33.419998</td>\n",
       "      <td>13407500</td>\n",
       "    </tr>\n",
       "    <tr>\n",
       "      <th>1</th>\n",
       "      <td>2018-05-24</td>\n",
       "      <td>33.439999</td>\n",
       "      <td>33.759998</td>\n",
       "      <td>33.119999</td>\n",
       "      <td>33.520000</td>\n",
       "      <td>33.520000</td>\n",
       "      <td>14491900</td>\n",
       "    </tr>\n",
       "    <tr>\n",
       "      <th>2</th>\n",
       "      <td>2018-05-25</td>\n",
       "      <td>33.540001</td>\n",
       "      <td>33.990002</td>\n",
       "      <td>33.310001</td>\n",
       "      <td>33.630001</td>\n",
       "      <td>33.630001</td>\n",
       "      <td>10424400</td>\n",
       "    </tr>\n",
       "    <tr>\n",
       "      <th>3</th>\n",
       "      <td>2018-05-29</td>\n",
       "      <td>33.419998</td>\n",
       "      <td>34.830002</td>\n",
       "      <td>33.349998</td>\n",
       "      <td>34.040001</td>\n",
       "      <td>34.040001</td>\n",
       "      <td>22086700</td>\n",
       "    </tr>\n",
       "    <tr>\n",
       "      <th>4</th>\n",
       "      <td>2018-05-30</td>\n",
       "      <td>34.200001</td>\n",
       "      <td>34.660000</td>\n",
       "      <td>34.080002</td>\n",
       "      <td>34.360001</td>\n",
       "      <td>34.360001</td>\n",
       "      <td>14588200</td>\n",
       "    </tr>\n",
       "  </tbody>\n",
       "</table>\n",
       "</div>"
      ],
      "text/plain": [
       "         Date       Open       High        Low      Close  Adj Close    Volume\n",
       "0  2018-05-23  32.700001  33.430000  32.599998  33.419998  33.419998  13407500\n",
       "1  2018-05-24  33.439999  33.759998  33.119999  33.520000  33.520000  14491900\n",
       "2  2018-05-25  33.540001  33.990002  33.310001  33.630001  33.630001  10424400\n",
       "3  2018-05-29  33.419998  34.830002  33.349998  34.040001  34.040001  22086700\n",
       "4  2018-05-30  34.200001  34.660000  34.080002  34.360001  34.360001  14588200"
      ]
     },
     "execution_count": 2,
     "metadata": {},
     "output_type": "execute_result"
    }
   ],
   "source": [
    "df = pd.read_csv('TWTR.csv')\n",
    "df.head()"
   ]
  },
  {
   "cell_type": "code",
   "execution_count": 3,
   "metadata": {},
   "outputs": [],
   "source": [
    "close = df['Close'].tolist()\n",
    "volume = df['Volume'].tolist()"
   ]
  },
  {
   "cell_type": "markdown",
   "metadata": {},
   "source": [
    "## Check balance"
   ]
  },
  {
   "cell_type": "code",
   "execution_count": 5,
   "metadata": {},
   "outputs": [
    {
     "data": {
      "text/plain": [
       "93.51999599999999"
      ]
     },
     "execution_count": 5,
     "metadata": {},
     "output_type": "execute_result"
    }
   ],
   "source": [
    "requests.get('http://localhost:8005/balance').json()"
   ]
  },
  {
   "cell_type": "markdown",
   "metadata": {},
   "source": [
    "This is the initial capital we have for now, you can check [agent.ipynb](https://github.com/huseinzol05/Stock-Prediction-Models/blob/master/realtime-agent/agent.ipynb) how I defined it, or you can overwrite it."
   ]
  },
  {
   "cell_type": "markdown",
   "metadata": {},
   "source": [
    "## Trading"
   ]
  },
  {
   "cell_type": "code",
   "execution_count": 8,
   "metadata": {},
   "outputs": [
    {
     "data": {
      "text/plain": [
       "'[33.419998, 13407500]'"
      ]
     },
     "execution_count": 8,
     "metadata": {},
     "output_type": "execute_result"
    }
   ],
   "source": [
    "import json\n",
    "\n",
    "data = json.dumps([close[0], volume[0]])\n",
    "data"
   ]
  },
  {
   "cell_type": "markdown",
   "metadata": {},
   "source": [
    "Remember, my last training session was only used `Close` and `Volume`, you need to edit it to accept any kind of parameters."
   ]
  },
  {
   "cell_type": "code",
   "execution_count": 9,
   "metadata": {},
   "outputs": [
    {
     "data": {
      "text/plain": [
       "{'action': 'fail',\n",
       " 'balance': 93.51999599999999,\n",
       " 'status': 'data not enough to trade',\n",
       " 'timestamp': '2019-06-07 11:55:35.541517'}"
      ]
     },
     "execution_count": 9,
     "metadata": {},
     "output_type": "execute_result"
    }
   ],
   "source": [
    "requests.get('http://localhost:8005/trade?data='+data).json()"
   ]
  },
  {
   "cell_type": "markdown",
   "metadata": {},
   "source": [
    "Reason why you got 'data not enough to trade', because, the agent waiting another data to complete the queue, atleast same as `window_size` size.\n",
    "\n",
    "Last time I defined `window_size` is 20, means, it only look back 20 historical data to trade."
   ]
  },
  {
   "cell_type": "markdown",
   "metadata": {},
   "source": [
    "Assume now, you have 100 times new datapoints going in, you want to trade these datapoints."
   ]
  },
  {
   "cell_type": "code",
   "execution_count": 10,
   "metadata": {},
   "outputs": [
    {
     "name": "stdout",
     "output_type": "stream",
     "text": [
      "{'action': 'fail', 'balance': 93.51999599999999, 'status': 'data not enough to trade', 'timestamp': '2019-06-07 11:55:36.552327'}\n",
      "{'action': 'fail', 'balance': 93.51999599999999, 'status': 'data not enough to trade', 'timestamp': '2019-06-07 11:55:36.559180'}\n",
      "{'action': 'fail', 'balance': 93.51999599999999, 'status': 'data not enough to trade', 'timestamp': '2019-06-07 11:55:36.564847'}\n",
      "{'action': 'fail', 'balance': 93.51999599999999, 'status': 'data not enough to trade', 'timestamp': '2019-06-07 11:55:36.568936'}\n",
      "{'action': 'fail', 'balance': 93.51999599999999, 'status': 'data not enough to trade', 'timestamp': '2019-06-07 11:55:36.572676'}\n",
      "{'action': 'fail', 'balance': 93.51999599999999, 'status': 'data not enough to trade', 'timestamp': '2019-06-07 11:55:36.576271'}\n",
      "{'action': 'fail', 'balance': 93.51999599999999, 'status': 'data not enough to trade', 'timestamp': '2019-06-07 11:55:36.579397'}\n",
      "{'action': 'fail', 'balance': 93.51999599999999, 'status': 'data not enough to trade', 'timestamp': '2019-06-07 11:55:36.582538'}\n",
      "{'action': 'fail', 'balance': 93.51999599999999, 'status': 'data not enough to trade', 'timestamp': '2019-06-07 11:55:36.585773'}\n",
      "{'action': 'fail', 'balance': 93.51999599999999, 'status': 'data not enough to trade', 'timestamp': '2019-06-07 11:55:36.588903'}\n",
      "{'action': 'fail', 'balance': 93.51999599999999, 'status': 'data not enough to trade', 'timestamp': '2019-06-07 11:55:36.591881'}\n",
      "{'action': 'fail', 'balance': 93.51999599999999, 'status': 'data not enough to trade', 'timestamp': '2019-06-07 11:55:36.594899'}\n",
      "{'action': 'fail', 'balance': 93.51999599999999, 'status': 'data not enough to trade', 'timestamp': '2019-06-07 11:55:36.597896'}\n",
      "{'action': 'fail', 'balance': 93.51999599999999, 'status': 'data not enough to trade', 'timestamp': '2019-06-07 11:55:36.600878'}\n",
      "{'action': 'fail', 'balance': 93.51999599999999, 'status': 'data not enough to trade', 'timestamp': '2019-06-07 11:55:36.603729'}\n",
      "{'action': 'fail', 'balance': 93.51999599999999, 'status': 'data not enough to trade', 'timestamp': '2019-06-07 11:55:36.606593'}\n",
      "{'action': 'fail', 'balance': 93.51999599999999, 'status': 'data not enough to trade', 'timestamp': '2019-06-07 11:55:36.609543'}\n",
      "{'action': 'fail', 'balance': 93.51999599999999, 'status': 'data not enough to trade', 'timestamp': '2019-06-07 11:55:36.612391'}\n",
      "{'action': 'buy', 'balance': 48.56999499999999, 'status': 'buy 1 unit, cost 44.950001', 'timestamp': '2019-06-07 11:55:36.615967'}\n",
      "{'action': 'sell', 'balance': 94.699996, 'gain': 1.1799999999999997, 'investment': 2.625138984980222, 'status': 'sell 1 unit, price 46.130001', 'timestamp': '2019-06-07 11:55:36.629498'}\n",
      "{'action': 'buy', 'balance': 49.459993999999995, 'status': 'buy 1 unit, cost 45.240002', 'timestamp': '2019-06-07 11:55:36.632064'}\n",
      "{'action': 'buy', 'balance': 3.5799929999999947, 'status': 'buy 1 unit, cost 45.880001', 'timestamp': '2019-06-07 11:55:36.634537'}\n",
      "{'action': 'nothing', 'balance': 3.5799929999999947, 'status': 'do nothing', 'timestamp': '2019-06-07 11:55:36.643547'}\n",
      "{'action': 'nothing', 'balance': 3.5799929999999947, 'status': 'do nothing', 'timestamp': '2019-06-07 11:55:36.645936'}\n",
      "{'action': 'nothing', 'balance': 3.5799929999999947, 'status': 'do nothing', 'timestamp': '2019-06-07 11:55:36.648307'}\n",
      "{'action': 'nothing', 'balance': 3.5799929999999947, 'status': 'do nothing', 'timestamp': '2019-06-07 11:55:36.650947'}\n",
      "{'action': 'nothing', 'balance': 3.5799929999999947, 'status': 'do nothing', 'timestamp': '2019-06-07 11:55:36.653616'}\n",
      "{'action': 'nothing', 'balance': 3.5799929999999947, 'status': 'do nothing', 'timestamp': '2019-06-07 11:55:36.659598'}\n",
      "{'action': 'sell', 'balance': 47.46999199999999, 'gain': -1.350003000000008, 'investment': -2.9840913800136613, 'status': 'sell 1 unit, price 43.889999', 'timestamp': '2019-06-07 11:55:36.668658'}\n",
      "{'action': 'buy', 'balance': 2.409990999999991, 'status': 'buy 1 unit, cost 45.060001', 'timestamp': '2019-06-07 11:55:36.671048'}\n",
      "{'action': 'nothing', 'balance': 2.409990999999991, 'status': 'do nothing', 'timestamp': '2019-06-07 11:55:36.673501'}\n",
      "{'action': 'nothing', 'balance': 2.409990999999991, 'status': 'do nothing', 'timestamp': '2019-06-07 11:55:36.679473'}\n",
      "{'action': 'sell', 'balance': 46.15999099999999, 'gain': -2.130001, 'investment': -4.642547849988059, 'status': 'sell 1 unit, price 43.750000', 'timestamp': '2019-06-07 11:55:36.681970'}\n",
      "{'action': 'nothing', 'balance': 46.15999099999999, 'status': 'do nothing', 'timestamp': '2019-06-07 11:55:36.684474'}\n",
      "{'action': 'nothing', 'balance': 46.15999099999999, 'status': 'do nothing', 'timestamp': '2019-06-07 11:55:36.690485'}\n",
      "{'action': 'buy', 'balance': 1.6699889999999868, 'status': 'buy 1 unit, cost 44.490002', 'timestamp': '2019-06-07 11:55:36.696861'}\n",
      "{'action': 'nothing', 'balance': 1.6699889999999868, 'status': 'do nothing', 'timestamp': '2019-06-07 11:55:36.700844'}\n",
      "{'action': 'sell', 'balance': 46.37998799999998, 'gain': -0.3500020000000035, 'investment': -0.7767465429039904, 'status': 'sell 1 unit, price 44.709999', 'timestamp': '2019-06-07 11:55:36.703417'}\n",
      "{'action': 'buy', 'balance': 3.0399879999999797, 'status': 'buy 1 unit, cost 43.340000', 'timestamp': '2019-06-07 11:55:36.708845'}\n",
      "{'action': 'sell', 'balance': 46.47998699999998, 'gain': -1.0500030000000038, 'investment': -2.3600875540531643, 'status': 'sell 1 unit, price 43.439999', 'timestamp': '2019-06-07 11:55:36.711500'}\n",
      "{'action': 'sell', 'balance': 89.89998499999999, 'gain': 0.07999799999999624, 'investment': 0.18458237194276933, 'status': 'sell 1 unit, price 43.419998', 'timestamp': '2019-06-07 11:55:36.714076'}\n",
      "{'action': 'nothing', 'balance': 89.89998499999999, 'status': 'do nothing', 'timestamp': '2019-06-07 11:55:36.716571'}\n",
      "{'action': 'nothing', 'balance': 89.89998499999999, 'status': 'do nothing', 'timestamp': '2019-06-07 11:55:36.719049'}\n",
      "{'action': 'nothing', 'balance': 89.89998499999999, 'status': 'do nothing', 'timestamp': '2019-06-07 11:55:36.721540'}\n",
      "{'action': 'nothing', 'balance': 89.89998499999999, 'status': 'do nothing', 'timestamp': '2019-06-07 11:55:36.724011'}\n",
      "{'action': 'buy', 'balance': 55.77998599999999, 'status': 'buy 1 unit, cost 34.119999', 'timestamp': '2019-06-07 11:55:36.726506'}\n",
      "{'action': 'sell', 'balance': 87.15998499999998, 'gain': -2.740000000000002, 'investment': -8.030480891866386, 'status': 'sell 1 unit, price 31.379999', 'timestamp': '2019-06-07 11:55:36.729069'}\n",
      "{'action': 'nothing', 'balance': 87.15998499999998, 'status': 'do nothing', 'timestamp': '2019-06-07 11:55:36.731561'}\n",
      "{'action': 'nothing', 'balance': 87.15998499999998, 'status': 'do nothing', 'timestamp': '2019-06-07 11:55:36.734122'}\n",
      "{'action': 'nothing', 'balance': 87.15998499999998, 'status': 'do nothing', 'timestamp': '2019-06-07 11:55:36.736608'}\n",
      "{'action': 'nothing', 'balance': 87.15998499999998, 'status': 'do nothing', 'timestamp': '2019-06-07 11:55:36.739092'}\n",
      "{'action': 'nothing', 'balance': 87.15998499999998, 'status': 'do nothing', 'timestamp': '2019-06-07 11:55:36.741593'}\n",
      "{'action': 'nothing', 'balance': 87.15998499999998, 'status': 'do nothing', 'timestamp': '2019-06-07 11:55:36.744075'}\n",
      "{'action': 'nothing', 'balance': 87.15998499999998, 'status': 'do nothing', 'timestamp': '2019-06-07 11:55:36.746571'}\n",
      "{'action': 'nothing', 'balance': 87.15998499999998, 'status': 'do nothing', 'timestamp': '2019-06-07 11:55:36.768519'}\n",
      "{'action': 'nothing', 'balance': 87.15998499999998, 'status': 'do nothing', 'timestamp': '2019-06-07 11:55:36.771503'}\n",
      "{'action': 'nothing', 'balance': 87.15998499999998, 'status': 'do nothing', 'timestamp': '2019-06-07 11:55:36.774050'}\n",
      "{'action': 'nothing', 'balance': 87.15998499999998, 'status': 'do nothing', 'timestamp': '2019-06-07 11:55:36.776555'}\n",
      "{'action': 'nothing', 'balance': 87.15998499999998, 'status': 'do nothing', 'timestamp': '2019-06-07 11:55:36.779112'}\n",
      "{'action': 'nothing', 'balance': 87.15998499999998, 'status': 'do nothing', 'timestamp': '2019-06-07 11:55:36.781639'}\n",
      "{'action': 'nothing', 'balance': 87.15998499999998, 'status': 'do nothing', 'timestamp': '2019-06-07 11:55:36.784134'}\n",
      "{'action': 'nothing', 'balance': 87.15998499999998, 'status': 'do nothing', 'timestamp': '2019-06-07 11:55:36.786621'}\n",
      "{'action': 'nothing', 'balance': 87.15998499999998, 'status': 'do nothing', 'timestamp': '2019-06-07 11:55:36.789103'}\n",
      "{'action': 'nothing', 'balance': 87.15998499999998, 'status': 'do nothing', 'timestamp': '2019-06-07 11:55:36.791582'}\n",
      "{'action': 'nothing', 'balance': 87.15998499999998, 'status': 'do nothing', 'timestamp': '2019-06-07 11:55:36.794063'}\n",
      "{'action': 'nothing', 'balance': 87.15998499999998, 'status': 'do nothing', 'timestamp': '2019-06-07 11:55:36.796553'}\n",
      "{'action': 'nothing', 'balance': 87.15998499999998, 'status': 'do nothing', 'timestamp': '2019-06-07 11:55:36.799030'}\n",
      "{'action': 'nothing', 'balance': 87.15998499999998, 'status': 'do nothing', 'timestamp': '2019-06-07 11:55:36.801564'}\n",
      "{'action': 'nothing', 'balance': 87.15998499999998, 'status': 'do nothing', 'timestamp': '2019-06-07 11:55:36.804045'}\n",
      "{'action': 'nothing', 'balance': 87.15998499999998, 'status': 'do nothing', 'timestamp': '2019-06-07 11:55:36.806526'}\n",
      "{'action': 'buy', 'balance': 51.97998499999998, 'status': 'buy 1 unit, cost 35.180000', 'timestamp': '2019-06-07 11:55:36.809030'}\n",
      "{'action': 'sell', 'balance': 86.81998499999997, 'gain': -0.3399999999999963, 'investment': -0.9664582148948161, 'status': 'sell 1 unit, price 34.840000', 'timestamp': '2019-06-07 11:55:36.811581'}\n",
      "{'action': 'buy', 'balance': 54.08998499999998, 'status': 'buy 1 unit, cost 32.730000', 'timestamp': '2019-06-07 11:55:36.814083'}\n",
      "{'action': 'buy', 'balance': 23.27998599999998, 'status': 'buy 1 unit, cost 30.809999', 'timestamp': '2019-06-07 11:55:36.816597'}\n",
      "{'action': 'sell', 'balance': 53.769985999999975, 'gain': -2.2399999999999984, 'investment': -6.843874121600973, 'status': 'sell 1 unit, price 30.490000', 'timestamp': '2019-06-07 11:55:36.819153'}\n",
      "{'action': 'buy', 'balance': 23.229984999999974, 'status': 'buy 1 unit, cost 30.540001', 'timestamp': '2019-06-07 11:55:36.821684'}\n",
      "{'action': 'buy', 'balance': -7.660014000000025, 'status': 'buy 1 unit, cost 30.889999', 'timestamp': '2019-06-07 11:55:36.824241'}\n",
      "{'action': 'nothing', 'balance': -7.660014000000025, 'status': 'do nothing', 'timestamp': '2019-06-07 11:55:36.826825'}\n",
      "{'action': 'nothing', 'balance': -7.660014000000025, 'status': 'do nothing', 'timestamp': '2019-06-07 11:55:36.829496'}\n",
      "{'action': 'nothing', 'balance': -7.660014000000025, 'status': 'do nothing', 'timestamp': '2019-06-07 11:55:36.832051'}\n",
      "{'action': 'nothing', 'balance': -7.660014000000025, 'status': 'do nothing', 'timestamp': '2019-06-07 11:55:36.834590'}\n",
      "{'action': 'sell', 'balance': 21.559984999999973, 'gain': -1.5899999999999963, 'investment': -5.160662290187015, 'status': 'sell 1 unit, price 29.219999', 'timestamp': '2019-06-07 11:55:36.837142'}\n",
      "{'action': 'nothing', 'balance': 21.559984999999973, 'status': 'do nothing', 'timestamp': '2019-06-07 11:55:36.839635'}\n",
      "{'action': 'sell', 'balance': 51.40998499999998, 'gain': -0.6900009999999988, 'investment': -2.259335223990329, 'status': 'sell 1 unit, price 29.850000', 'timestamp': '2019-06-07 11:55:36.842190'}\n",
      "{'action': 'nothing', 'balance': 51.40998499999998, 'status': 'do nothing', 'timestamp': '2019-06-07 11:55:36.844656'}\n",
      "{'action': 'nothing', 'balance': 51.40998499999998, 'status': 'do nothing', 'timestamp': '2019-06-07 11:55:36.847083'}\n",
      "{'action': 'nothing', 'balance': 51.40998499999998, 'status': 'do nothing', 'timestamp': '2019-06-07 11:55:36.849536'}\n",
      "{'action': 'nothing', 'balance': 51.40998499999998, 'status': 'do nothing', 'timestamp': '2019-06-07 11:55:36.851972'}\n",
      "{'action': 'nothing', 'balance': 51.40998499999998, 'status': 'do nothing', 'timestamp': '2019-06-07 11:55:36.854397'}\n",
      "{'action': 'nothing', 'balance': 51.40998499999998, 'status': 'do nothing', 'timestamp': '2019-06-07 11:55:36.856829'}\n",
      "{'action': 'nothing', 'balance': 51.40998499999998, 'status': 'do nothing', 'timestamp': '2019-06-07 11:55:36.859241'}\n",
      "{'action': 'nothing', 'balance': 51.40998499999998, 'status': 'do nothing', 'timestamp': '2019-06-07 11:55:36.861656'}\n",
      "{'action': 'sell', 'balance': 80.41998499999998, 'gain': -1.879998999999998, 'investment': -6.086108970090928, 'status': 'sell 1 unit, price 29.010000', 'timestamp': '2019-06-07 11:55:36.864130'}\n",
      "{'action': 'nothing', 'balance': 80.41998499999998, 'status': 'do nothing', 'timestamp': '2019-06-07 11:55:36.868809'}\n",
      "{'action': 'nothing', 'balance': 80.41998499999998, 'status': 'do nothing', 'timestamp': '2019-06-07 11:55:36.872785'}\n",
      "{'action': 'nothing', 'balance': 80.41998499999998, 'status': 'do nothing', 'timestamp': '2019-06-07 11:55:36.876772'}\n",
      "{'action': 'nothing', 'balance': 80.41998499999998, 'status': 'do nothing', 'timestamp': '2019-06-07 11:55:36.879174'}\n",
      "{'action': 'nothing', 'balance': 80.41998499999998, 'status': 'do nothing', 'timestamp': '2019-06-07 11:55:36.884789'}\n",
      "{'action': 'buy', 'balance': 53.41998499999998, 'status': 'buy 1 unit, cost 27.000000', 'timestamp': '2019-06-07 11:55:36.887188'}\n",
      "{'action': 'sell', 'balance': 81.40998499999998, 'gain': 0.9899999999999984, 'investment': 3.666666666666661, 'status': 'sell 1 unit, price 27.990000', 'timestamp': '2019-06-07 11:55:36.892006'}\n",
      "{'action': 'nothing', 'balance': 81.40998499999998, 'status': 'do nothing', 'timestamp': '2019-06-07 11:55:36.896452'}\n",
      "{'action': 'nothing', 'balance': 81.40998499999998, 'status': 'do nothing', 'timestamp': '2019-06-07 11:55:36.900754'}\n",
      "{'action': 'nothing', 'balance': 81.40998499999998, 'status': 'do nothing', 'timestamp': '2019-06-07 11:55:36.904754'}\n",
      "{'action': 'nothing', 'balance': 81.40998499999998, 'status': 'do nothing', 'timestamp': '2019-06-07 11:55:36.908761'}\n",
      "{'action': 'nothing', 'balance': 81.40998499999998, 'status': 'do nothing', 'timestamp': '2019-06-07 11:55:36.912754'}\n",
      "{'action': 'nothing', 'balance': 81.40998499999998, 'status': 'do nothing', 'timestamp': '2019-06-07 11:55:36.915146'}\n",
      "{'action': 'buy', 'balance': 52.63998499999998, 'status': 'buy 1 unit, cost 28.770000', 'timestamp': '2019-06-07 11:55:36.920786'}\n",
      "{'action': 'nothing', 'balance': 52.63998499999998, 'status': 'do nothing', 'timestamp': '2019-06-07 11:55:36.923159'}\n",
      "{'action': 'buy', 'balance': 20.839985999999982, 'status': 'buy 1 unit, cost 31.799999', 'timestamp': '2019-06-07 11:55:36.928774'}\n",
      "{'action': 'sell', 'balance': 53.199986999999986, 'gain': 3.5900010000000044, 'investment': 12.478279457768524, 'status': 'sell 1 unit, price 32.360001', 'timestamp': '2019-06-07 11:55:36.931187'}\n",
      "{'action': 'nothing', 'balance': 53.199986999999986, 'status': 'do nothing', 'timestamp': '2019-06-07 11:55:36.936826'}\n",
      "{'action': 'buy', 'balance': 19.339985999999982, 'status': 'buy 1 unit, cost 33.860001', 'timestamp': '2019-06-07 11:55:36.939204'}\n",
      "{'action': 'nothing', 'balance': 19.339985999999982, 'status': 'do nothing', 'timestamp': '2019-06-07 11:55:36.944781'}\n",
      "{'action': 'sell', 'balance': 53.95998499999998, 'gain': 2.8200000000000003, 'investment': 8.867924807167448, 'status': 'sell 1 unit, price 34.619999', 'timestamp': '2019-06-07 11:55:36.949000'}\n",
      "{'action': 'buy', 'balance': 19.659985999999982, 'status': 'buy 1 unit, cost 34.299999', 'timestamp': '2019-06-07 11:55:36.951381'}\n",
      "{'action': 'nothing', 'balance': 19.659985999999982, 'status': 'do nothing', 'timestamp': '2019-06-07 11:55:36.956773'}\n",
      "{'action': 'sell', 'balance': 54.07998399999998, 'gain': 0.5599969999999956, 'investment': 1.6538599629692734, 'status': 'sell 1 unit, price 34.419998', 'timestamp': '2019-06-07 11:55:36.960166'}\n",
      "{'action': 'sell', 'balance': 89.06998599999999, 'gain': 0.6900030000000044, 'investment': 2.0116706125851618, 'status': 'sell 1 unit, price 34.990002', 'timestamp': '2019-06-07 11:55:36.964819'}\n",
      "{'action': 'nothing', 'balance': 89.06998599999999, 'status': 'do nothing', 'timestamp': '2019-06-07 11:55:36.968756'}\n"
     ]
    },
    {
     "name": "stdout",
     "output_type": "stream",
     "text": [
      "{'action': 'nothing', 'balance': 89.06998599999999, 'status': 'do nothing', 'timestamp': '2019-06-07 11:55:36.976935'}\n",
      "{'action': 'buy', 'balance': 57.05998799999999, 'status': 'buy 1 unit, cost 32.009998', 'timestamp': '2019-06-07 11:55:36.979575'}\n",
      "{'action': 'buy', 'balance': 24.569985999999986, 'status': 'buy 1 unit, cost 32.490002', 'timestamp': '2019-06-07 11:55:36.982003'}\n",
      "{'action': 'buy', 'balance': -8.34001400000001, 'status': 'buy 1 unit, cost 32.910000', 'timestamp': '2019-06-07 11:55:36.984421'}\n",
      "{'action': 'nothing', 'balance': -8.34001400000001, 'status': 'do nothing', 'timestamp': '2019-06-07 11:55:36.986815'}\n",
      "{'action': 'nothing', 'balance': -8.34001400000001, 'status': 'do nothing', 'timestamp': '2019-06-07 11:55:36.989217'}\n",
      "{'action': 'nothing', 'balance': -8.34001400000001, 'status': 'do nothing', 'timestamp': '2019-06-07 11:55:36.991601'}\n",
      "{'action': 'nothing', 'balance': -8.34001400000001, 'status': 'do nothing', 'timestamp': '2019-06-07 11:55:36.994016'}\n",
      "{'action': 'nothing', 'balance': -8.34001400000001, 'status': 'do nothing', 'timestamp': '2019-06-07 11:55:36.996402'}\n",
      "{'action': 'nothing', 'balance': -8.34001400000001, 'status': 'do nothing', 'timestamp': '2019-06-07 11:55:36.998787'}\n",
      "{'action': 'nothing', 'balance': -8.34001400000001, 'status': 'do nothing', 'timestamp': '2019-06-07 11:55:37.001194'}\n",
      "{'action': 'sell', 'balance': 24.269986999999993, 'gain': 0.6000030000000081, 'investment': 1.8744237347344044, 'status': 'sell 1 unit, price 32.610001', 'timestamp': '2019-06-07 11:55:37.003635'}\n",
      "{'action': 'nothing', 'balance': 24.269986999999993, 'status': 'do nothing', 'timestamp': '2019-06-07 11:55:37.006079'}\n",
      "{'action': 'nothing', 'balance': 24.269986999999993, 'status': 'do nothing', 'timestamp': '2019-06-07 11:55:37.008443'}\n",
      "{'action': 'sell', 'balance': 55.719987999999994, 'gain': -1.0400010000000037, 'investment': -3.2009877992620734, 'status': 'sell 1 unit, price 31.450001', 'timestamp': '2019-06-07 11:55:37.010907'}\n",
      "{'action': 'nothing', 'balance': 55.719987999999994, 'status': 'do nothing', 'timestamp': '2019-06-07 11:55:37.013316'}\n",
      "{'action': 'nothing', 'balance': 55.719987999999994, 'status': 'do nothing', 'timestamp': '2019-06-07 11:55:37.015726'}\n",
      "{'action': 'nothing', 'balance': 55.719987999999994, 'status': 'do nothing', 'timestamp': '2019-06-07 11:55:37.018123'}\n",
      "{'action': 'nothing', 'balance': 55.719987999999994, 'status': 'do nothing', 'timestamp': '2019-06-07 11:55:37.020520'}\n",
      "{'action': 'nothing', 'balance': 55.719987999999994, 'status': 'do nothing', 'timestamp': '2019-06-07 11:55:37.022949'}\n",
      "{'action': 'sell', 'balance': 90.16998899999999, 'gain': 1.5400010000000037, 'investment': 4.679431783652397, 'status': 'sell 1 unit, price 34.450001', 'timestamp': '2019-06-07 11:55:37.025416'}\n",
      "{'action': 'buy', 'balance': 53.91998899999999, 'status': 'buy 1 unit, cost 36.250000', 'timestamp': '2019-06-07 11:55:37.027767'}\n",
      "{'action': 'sell', 'balance': 89.80998799999998, 'gain': -0.360001000000004, 'investment': -0.9931062068965627, 'status': 'sell 1 unit, price 35.889999', 'timestamp': '2019-06-07 11:55:37.030162'}\n",
      "{'action': 'nothing', 'balance': 89.80998799999998, 'status': 'do nothing', 'timestamp': '2019-06-07 11:55:37.032472'}\n",
      "{'action': 'nothing', 'balance': 89.80998799999998, 'status': 'do nothing', 'timestamp': '2019-06-07 11:55:37.034759'}\n",
      "{'action': 'nothing', 'balance': 89.80998799999998, 'status': 'do nothing', 'timestamp': '2019-06-07 11:55:37.037061'}\n",
      "{'action': 'nothing', 'balance': 89.80998799999998, 'status': 'do nothing', 'timestamp': '2019-06-07 11:55:37.039344'}\n",
      "{'action': 'buy', 'balance': 60.51998699999997, 'status': 'buy 1 unit, cost 29.290001', 'timestamp': '2019-06-07 11:55:37.041640'}\n",
      "{'action': 'buy', 'balance': 33.209987999999974, 'status': 'buy 1 unit, cost 27.309999', 'timestamp': '2019-06-07 11:55:37.043941'}\n",
      "{'action': 'nothing', 'balance': 33.209987999999974, 'status': 'do nothing', 'timestamp': '2019-06-07 11:55:37.046267'}\n",
      "{'action': 'buy', 'balance': 4.549987999999974, 'status': 'buy 1 unit, cost 28.660000', 'timestamp': '2019-06-07 11:55:37.048588'}\n",
      "{'action': 'nothing', 'balance': 4.549987999999974, 'status': 'do nothing', 'timestamp': '2019-06-07 11:55:37.050937'}\n",
      "{'action': 'nothing', 'balance': 4.549987999999974, 'status': 'do nothing', 'timestamp': '2019-06-07 11:55:37.053461'}\n",
      "{'action': 'nothing', 'balance': 4.549987999999974, 'status': 'do nothing', 'timestamp': '2019-06-07 11:55:37.055810'}\n",
      "{'action': 'nothing', 'balance': 4.549987999999974, 'status': 'do nothing', 'timestamp': '2019-06-07 11:55:37.058157'}\n",
      "{'action': 'sell', 'balance': 32.53998799999997, 'gain': -1.3000010000000017, 'investment': -4.438378134572279, 'status': 'sell 1 unit, price 27.990000', 'timestamp': '2019-06-07 11:55:37.060538'}\n",
      "{'action': 'sell', 'balance': 62.48998899999997, 'gain': 2.6400020000000026, 'investment': 9.666796399370073, 'status': 'sell 1 unit, price 29.950001', 'timestamp': '2019-06-07 11:55:37.062902'}\n",
      "{'action': 'sell', 'balance': 93.82998899999997, 'gain': 2.6799999999999997, 'investment': 9.351011863224004, 'status': 'sell 1 unit, price 31.340000', 'timestamp': '2019-06-07 11:55:37.065279'}\n",
      "{'action': 'nothing', 'balance': 93.82998899999997, 'status': 'do nothing', 'timestamp': '2019-06-07 11:55:37.067570'}\n",
      "{'action': 'nothing', 'balance': 93.82998899999997, 'status': 'do nothing', 'timestamp': '2019-06-07 11:55:37.069907'}\n",
      "{'action': 'nothing', 'balance': 93.82998899999997, 'status': 'do nothing', 'timestamp': '2019-06-07 11:55:37.072224'}\n",
      "{'action': 'nothing', 'balance': 93.82998899999997, 'status': 'do nothing', 'timestamp': '2019-06-07 11:55:37.074528'}\n",
      "{'action': 'nothing', 'balance': 93.82998899999997, 'status': 'do nothing', 'timestamp': '2019-06-07 11:55:37.076832'}\n",
      "{'action': 'nothing', 'balance': 93.82998899999997, 'status': 'do nothing', 'timestamp': '2019-06-07 11:55:37.079121'}\n",
      "{'action': 'nothing', 'balance': 93.82998899999997, 'status': 'do nothing', 'timestamp': '2019-06-07 11:55:37.081416'}\n",
      "{'action': 'nothing', 'balance': 93.82998899999997, 'status': 'do nothing', 'timestamp': '2019-06-07 11:55:37.083696'}\n",
      "{'action': 'nothing', 'balance': 93.82998899999997, 'status': 'do nothing', 'timestamp': '2019-06-07 11:55:37.085990'}\n",
      "{'action': 'buy', 'balance': 61.57998899999997, 'status': 'buy 1 unit, cost 32.250000', 'timestamp': '2019-06-07 11:55:37.088279'}\n",
      "{'action': 'buy', 'balance': 30.60998999999997, 'status': 'buy 1 unit, cost 30.969999', 'timestamp': '2019-06-07 11:55:37.090592'}\n",
      "{'action': 'buy', 'balance': -1.000011000000029, 'status': 'buy 1 unit, cost 31.610001', 'timestamp': '2019-06-07 11:55:37.092899'}\n",
      "{'action': 'nothing', 'balance': -1.000011000000029, 'status': 'do nothing', 'timestamp': '2019-06-07 11:55:37.095223'}\n",
      "{'action': 'nothing', 'balance': -1.000011000000029, 'status': 'do nothing', 'timestamp': '2019-06-07 11:55:37.097557'}\n",
      "{'action': 'nothing', 'balance': -1.000011000000029, 'status': 'do nothing', 'timestamp': '2019-06-07 11:55:37.099881'}\n",
      "{'action': 'nothing', 'balance': -1.000011000000029, 'status': 'do nothing', 'timestamp': '2019-06-07 11:55:37.102233'}\n",
      "{'action': 'nothing', 'balance': -1.000011000000029, 'status': 'do nothing', 'timestamp': '2019-06-07 11:55:37.104541'}\n",
      "{'action': 'nothing', 'balance': -1.000011000000029, 'status': 'do nothing', 'timestamp': '2019-06-07 11:55:37.106858'}\n",
      "{'action': 'sell', 'balance': 32.93998799999997, 'gain': 1.6899990000000003, 'investment': 5.240306976744187, 'status': 'sell 1 unit, price 33.939999', 'timestamp': '2019-06-07 11:55:37.109267'}\n",
      "{'action': 'buy', 'balance': -1.4300110000000288, 'status': 'buy 1 unit, cost 34.369999', 'timestamp': '2019-06-07 11:55:37.111597'}\n",
      "{'action': 'nothing', 'balance': -1.4300110000000288, 'status': 'do nothing', 'timestamp': '2019-06-07 11:55:37.113928'}\n",
      "{'action': 'nothing', 'balance': -1.4300110000000288, 'status': 'do nothing', 'timestamp': '2019-06-07 11:55:37.116258'}\n",
      "{'action': 'sell', 'balance': 28.579988999999973, 'gain': -0.9599989999999963, 'investment': -3.0997708459725697, 'status': 'sell 1 unit, price 30.010000', 'timestamp': '2019-06-07 11:55:37.118658'}\n",
      "{'action': 'nothing', 'balance': 28.579988999999973, 'status': 'do nothing', 'timestamp': '2019-06-07 11:55:37.120996'}\n",
      "{'action': 'buy', 'balance': -1.8100100000000268, 'status': 'buy 1 unit, cost 30.389999', 'timestamp': '2019-06-07 11:55:37.123331'}\n",
      "{'action': 'nothing', 'balance': -1.8100100000000268, 'status': 'do nothing', 'timestamp': '2019-06-07 11:55:37.125661'}\n",
      "{'action': 'nothing', 'balance': -1.8100100000000268, 'status': 'do nothing', 'timestamp': '2019-06-07 11:55:37.127980'}\n",
      "{'action': 'nothing', 'balance': -1.8100100000000268, 'status': 'do nothing', 'timestamp': '2019-06-07 11:55:37.130314'}\n",
      "{'action': 'nothing', 'balance': -1.8100100000000268, 'status': 'do nothing', 'timestamp': '2019-06-07 11:55:37.132622'}\n",
      "{'action': 'nothing', 'balance': -1.8100100000000268, 'status': 'do nothing', 'timestamp': '2019-06-07 11:55:37.134945'}\n",
      "{'action': 'sell', 'balance': 28.949989999999975, 'gain': -0.8500009999999989, 'investment': -2.6890255397334495, 'status': 'sell 1 unit, price 30.760000', 'timestamp': '2019-06-07 11:55:37.137307'}\n",
      "{'action': 'sell', 'balance': 60.659988999999975, 'gain': -2.66, 'investment': -7.7393077608178, 'status': 'sell 1 unit, price 31.709999', 'timestamp': '2019-06-07 11:55:37.139672'}\n",
      "{'action': 'sell', 'balance': 92.64998899999998, 'gain': 1.600000999999999, 'investment': 5.264893230170883, 'status': 'sell 1 unit, price 31.990000', 'timestamp': '2019-06-07 11:55:37.142071'}\n",
      "{'action': 'nothing', 'balance': 92.64998899999998, 'status': 'do nothing', 'timestamp': '2019-06-07 11:55:37.144578'}\n",
      "{'action': 'nothing', 'balance': 92.64998899999998, 'status': 'do nothing', 'timestamp': '2019-06-07 11:55:37.146907'}\n",
      "{'action': 'nothing', 'balance': 92.64998899999998, 'status': 'do nothing', 'timestamp': '2019-06-07 11:55:37.149235'}\n",
      "{'action': 'nothing', 'balance': 92.64998899999998, 'status': 'do nothing', 'timestamp': '2019-06-07 11:55:37.151538'}\n",
      "{'action': 'nothing', 'balance': 92.64998899999998, 'status': 'do nothing', 'timestamp': '2019-06-07 11:55:37.153838'}\n",
      "{'action': 'nothing', 'balance': 92.64998899999998, 'status': 'do nothing', 'timestamp': '2019-06-07 11:55:37.156147'}\n",
      "{'action': 'nothing', 'balance': 92.64998899999998, 'status': 'do nothing', 'timestamp': '2019-06-07 11:55:37.158463'}\n",
      "{'action': 'nothing', 'balance': 92.64998899999998, 'status': 'do nothing', 'timestamp': '2019-06-07 11:55:37.160770'}\n",
      "{'action': 'nothing', 'balance': 92.64998899999998, 'status': 'do nothing', 'timestamp': '2019-06-07 11:55:37.163086'}\n",
      "{'action': 'nothing', 'balance': 92.64998899999998, 'status': 'do nothing', 'timestamp': '2019-06-07 11:55:37.165419'}\n"
     ]
    }
   ],
   "source": [
    "for i in range(200):\n",
    "    data = json.dumps([close[i], volume[i]])\n",
    "    requested = requests.get('http://localhost:8005/trade?data=' + data).json()\n",
    "    print(requested)"
   ]
  }
 ],
 "metadata": {
  "kernelspec": {
   "display_name": "Python 3",
   "language": "python",
   "name": "python3"
  },
  "language_info": {
   "codemirror_mode": {
    "name": "ipython",
    "version": 3
   },
   "file_extension": ".py",
   "mimetype": "text/x-python",
   "name": "python",
   "nbconvert_exporter": "python",
   "pygments_lexer": "ipython3",
   "version": "3.6.8"
  }
 },
 "nbformat": 4,
 "nbformat_minor": 2
}
