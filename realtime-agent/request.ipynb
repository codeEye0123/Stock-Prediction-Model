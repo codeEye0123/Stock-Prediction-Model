{
 "cells": [
  {
   "cell_type": "code",
   "execution_count": 1,
   "metadata": {},
   "outputs": [],
   "source": [
    "import requests\n",
    "import pandas as pd"
   ]
  },
  {
   "cell_type": "markdown",
   "metadata": {},
   "source": [
    "## Let say\n",
    "\n",
    "Let say, GOOG.csv is my realtime data, remember, we trained using `Close`, and `Volume` data.\n",
    "\n",
    "So every request means new daily data.\n",
    "\n",
    "You can improve the code to bind historical data with your own database or any websocket streaming data. Imagination is your limit now."
   ]
  },
  {
   "cell_type": "code",
   "execution_count": 2,
   "metadata": {},
   "outputs": [
    {
     "data": {
      "text/html": [
       "<div>\n",
       "<style scoped>\n",
       "    .dataframe tbody tr th:only-of-type {\n",
       "        vertical-align: middle;\n",
       "    }\n",
       "\n",
       "    .dataframe tbody tr th {\n",
       "        vertical-align: top;\n",
       "    }\n",
       "\n",
       "    .dataframe thead th {\n",
       "        text-align: right;\n",
       "    }\n",
       "</style>\n",
       "<table border=\"1\" class=\"dataframe\">\n",
       "  <thead>\n",
       "    <tr style=\"text-align: right;\">\n",
       "      <th></th>\n",
       "      <th>Date</th>\n",
       "      <th>Open</th>\n",
       "      <th>High</th>\n",
       "      <th>Low</th>\n",
       "      <th>Close</th>\n",
       "      <th>Adj Close</th>\n",
       "      <th>Volume</th>\n",
       "    </tr>\n",
       "  </thead>\n",
       "  <tbody>\n",
       "    <tr>\n",
       "      <th>0</th>\n",
       "      <td>2018-05-23</td>\n",
       "      <td>12.93</td>\n",
       "      <td>13.18</td>\n",
       "      <td>12.90</td>\n",
       "      <td>13.10</td>\n",
       "      <td>13.10</td>\n",
       "      <td>44388300</td>\n",
       "    </tr>\n",
       "    <tr>\n",
       "      <th>1</th>\n",
       "      <td>2018-05-24</td>\n",
       "      <td>13.06</td>\n",
       "      <td>13.43</td>\n",
       "      <td>13.03</td>\n",
       "      <td>13.41</td>\n",
       "      <td>13.41</td>\n",
       "      <td>47785700</td>\n",
       "    </tr>\n",
       "    <tr>\n",
       "      <th>2</th>\n",
       "      <td>2018-05-25</td>\n",
       "      <td>13.40</td>\n",
       "      <td>13.72</td>\n",
       "      <td>13.36</td>\n",
       "      <td>13.54</td>\n",
       "      <td>13.54</td>\n",
       "      <td>43850100</td>\n",
       "    </tr>\n",
       "    <tr>\n",
       "      <th>3</th>\n",
       "      <td>2018-05-29</td>\n",
       "      <td>13.45</td>\n",
       "      <td>13.63</td>\n",
       "      <td>13.26</td>\n",
       "      <td>13.36</td>\n",
       "      <td>13.36</td>\n",
       "      <td>39578500</td>\n",
       "    </tr>\n",
       "    <tr>\n",
       "      <th>4</th>\n",
       "      <td>2018-05-30</td>\n",
       "      <td>13.48</td>\n",
       "      <td>13.95</td>\n",
       "      <td>13.48</td>\n",
       "      <td>13.82</td>\n",
       "      <td>13.82</td>\n",
       "      <td>58186400</td>\n",
       "    </tr>\n",
       "  </tbody>\n",
       "</table>\n",
       "</div>"
      ],
      "text/plain": [
       "         Date   Open   High    Low  Close  Adj Close    Volume\n",
       "0  2018-05-23  12.93  13.18  12.90  13.10      13.10  44388300\n",
       "1  2018-05-24  13.06  13.43  13.03  13.41      13.41  47785700\n",
       "2  2018-05-25  13.40  13.72  13.36  13.54      13.54  43850100\n",
       "3  2018-05-29  13.45  13.63  13.26  13.36      13.36  39578500\n",
       "4  2018-05-30  13.48  13.95  13.48  13.82      13.82  58186400"
      ]
     },
     "execution_count": 2,
     "metadata": {},
     "output_type": "execute_result"
    }
   ],
   "source": [
    "df = pd.read_csv('AMD.csv')\n",
    "df.head()"
   ]
  },
  {
   "cell_type": "code",
   "execution_count": 3,
   "metadata": {},
   "outputs": [],
   "source": [
    "close = df['Close'].tolist()\n",
    "volume = df['Volume'].tolist()"
   ]
  },
  {
   "cell_type": "markdown",
   "metadata": {},
   "source": [
    "## Check balance"
   ]
  },
  {
   "cell_type": "code",
   "execution_count": 4,
   "metadata": {},
   "outputs": [
    {
     "data": {
      "text/plain": [
       "1000"
      ]
     },
     "execution_count": 4,
     "metadata": {},
     "output_type": "execute_result"
    }
   ],
   "source": [
    "requests.get('http://localhost:8005/balance').json()"
   ]
  },
  {
   "cell_type": "markdown",
   "metadata": {},
   "source": [
    "This is the initial capital we have for now, you can check [agent.ipynb](https://github.com/huseinzol05/Stock-Prediction-Models/blob/master/realtime-agent/agent.ipynb) how I defined it, or you can overwrite it."
   ]
  },
  {
   "cell_type": "code",
   "execution_count": 5,
   "metadata": {},
   "outputs": [
    {
     "data": {
      "text/plain": [
       "True"
      ]
     },
     "execution_count": 5,
     "metadata": {},
     "output_type": "execute_result"
    }
   ],
   "source": [
    "requests.get('http://localhost:8005/reset?money=1000').json()"
   ]
  },
  {
   "cell_type": "code",
   "execution_count": 6,
   "metadata": {},
   "outputs": [
    {
     "data": {
      "text/plain": [
       "1000"
      ]
     },
     "execution_count": 6,
     "metadata": {},
     "output_type": "execute_result"
    }
   ],
   "source": [
    "requests.get('http://localhost:8005/balance').json()"
   ]
  },
  {
   "cell_type": "markdown",
   "metadata": {},
   "source": [
    "## Trading"
   ]
  },
  {
   "cell_type": "code",
   "execution_count": 7,
   "metadata": {},
   "outputs": [
    {
     "data": {
      "text/plain": [
       "'[13.1, 44388300]'"
      ]
     },
     "execution_count": 7,
     "metadata": {},
     "output_type": "execute_result"
    }
   ],
   "source": [
    "import json\n",
    "\n",
    "data = json.dumps([close[0], volume[0]])\n",
    "data"
   ]
  },
  {
   "cell_type": "markdown",
   "metadata": {},
   "source": [
    "Remember, my last training session was only used `Close` and `Volume`, you need to edit it to accept any kind of parameters."
   ]
  },
  {
   "cell_type": "code",
   "execution_count": 8,
   "metadata": {},
   "outputs": [
    {
     "data": {
      "text/plain": [
       "{'action': 'fail',\n",
       " 'balance': 1000,\n",
       " 'status': 'data not enough to trade',\n",
       " 'timestamp': '2019-05-26 01:12:10.232885'}"
      ]
     },
     "execution_count": 8,
     "metadata": {},
     "output_type": "execute_result"
    }
   ],
   "source": [
    "requests.get('http://localhost:8005/trade?data='+data).json()"
   ]
  },
  {
   "cell_type": "markdown",
   "metadata": {},
   "source": [
    "Reason why you got 'data not enough to trade', because, the agent waiting another data to complete the queue, atleast same as `window_size` size.\n",
    "\n",
    "Last time I defined `window_size` is 20, means, it only look back 20 historical data to trade."
   ]
  },
  {
   "cell_type": "code",
   "execution_count": 9,
   "metadata": {},
   "outputs": [
    {
     "data": {
      "text/plain": [
       "[[100.0, 226240082.86238617]]"
      ]
     },
     "execution_count": 9,
     "metadata": {},
     "output_type": "execute_result"
    }
   ],
   "source": [
    "requests.get('http://localhost:8005/queue').json()"
   ]
  },
  {
   "cell_type": "markdown",
   "metadata": {},
   "source": [
    "Assume now, you have 40 times new datapoints going in, you want to trade these datapoints."
   ]
  },
  {
   "cell_type": "code",
   "execution_count": 10,
   "metadata": {},
   "outputs": [
    {
     "name": "stdout",
     "output_type": "stream",
     "text": [
      "{'action': 'fail', 'balance': 1000, 'status': 'data not enough to trade', 'timestamp': '2019-05-26 01:12:10.247068'}\n",
      "{'action': 'fail', 'balance': 1000, 'status': 'data not enough to trade', 'timestamp': '2019-05-26 01:12:10.249505'}\n",
      "{'action': 'fail', 'balance': 1000, 'status': 'data not enough to trade', 'timestamp': '2019-05-26 01:12:10.251500'}\n",
      "{'action': 'fail', 'balance': 1000, 'status': 'data not enough to trade', 'timestamp': '2019-05-26 01:12:10.253600'}\n",
      "{'action': 'fail', 'balance': 1000, 'status': 'data not enough to trade', 'timestamp': '2019-05-26 01:12:10.255749'}\n",
      "{'action': 'fail', 'balance': 1000, 'status': 'data not enough to trade', 'timestamp': '2019-05-26 01:12:10.257700'}\n",
      "{'action': 'fail', 'balance': 1000, 'status': 'data not enough to trade', 'timestamp': '2019-05-26 01:12:10.259652'}\n",
      "{'action': 'fail', 'balance': 1000, 'status': 'data not enough to trade', 'timestamp': '2019-05-26 01:12:10.261590'}\n",
      "{'action': 'fail', 'balance': 1000, 'status': 'data not enough to trade', 'timestamp': '2019-05-26 01:12:10.263668'}\n",
      "{'action': 'fail', 'balance': 1000, 'status': 'data not enough to trade', 'timestamp': '2019-05-26 01:12:10.265917'}\n",
      "{'action': 'fail', 'balance': 1000, 'status': 'data not enough to trade', 'timestamp': '2019-05-26 01:12:10.267916'}\n",
      "{'action': 'fail', 'balance': 1000, 'status': 'data not enough to trade', 'timestamp': '2019-05-26 01:12:10.269977'}\n",
      "{'action': 'fail', 'balance': 1000, 'status': 'data not enough to trade', 'timestamp': '2019-05-26 01:12:10.272008'}\n",
      "{'action': 'fail', 'balance': 1000, 'status': 'data not enough to trade', 'timestamp': '2019-05-26 01:12:10.273973'}\n",
      "{'action': 'fail', 'balance': 1000, 'status': 'data not enough to trade', 'timestamp': '2019-05-26 01:12:10.275918'}\n",
      "{'action': 'fail', 'balance': 1000, 'status': 'data not enough to trade', 'timestamp': '2019-05-26 01:12:10.277872'}\n",
      "{'action': 'fail', 'balance': 1000, 'status': 'data not enough to trade', 'timestamp': '2019-05-26 01:12:10.279851'}\n",
      "{'action': 'fail', 'balance': 1000, 'status': 'data not enough to trade', 'timestamp': '2019-05-26 01:12:10.281878'}\n",
      "{'action': 'nothing', 'balance': 1000, 'status': 'do nothing', 'timestamp': '2019-05-26 01:12:10.283949'}\n",
      "{'action': 'nothing', 'balance': 1000, 'status': 'do nothing', 'timestamp': '2019-05-26 01:12:10.286431'}\n",
      "{'action': 'nothing', 'balance': 1000, 'status': 'do nothing', 'timestamp': '2019-05-26 01:12:10.288707'}\n",
      "{'action': 'nothing', 'balance': 1000, 'status': 'do nothing', 'timestamp': '2019-05-26 01:12:10.290867'}\n",
      "{'action': 'buy', 'balance': 984.89, 'status': 'buy 1 unit, cost 15.110000', 'timestamp': '2019-05-26 01:12:10.293031'}\n",
      "{'action': 'sell', 'balance': 1000.39, 'investment': '2.581072 %', 'status': 'sell 1 unit, price 15.500000', 'timestamp': '2019-05-26 01:12:10.295274'}\n",
      "{'action': 'nothing', 'balance': 1000.39, 'status': 'do nothing', 'timestamp': '2019-05-26 01:12:10.297388'}\n",
      "{'action': 'buy', 'balance': 985.08, 'status': 'buy 1 unit, cost 15.310000', 'timestamp': '2019-05-26 01:12:10.299533'}\n",
      "{'action': 'sell', 'balance': 1000.07, 'investment': '-2.090137 %', 'status': 'sell 1 unit, price 14.990000', 'timestamp': '2019-05-26 01:12:10.301653'}\n",
      "{'action': 'buy', 'balance': 984.9100000000001, 'status': 'buy 1 unit, cost 15.160000', 'timestamp': '2019-05-26 01:12:10.303824'}\n",
      "{'action': 'buy', 'balance': 969.9100000000001, 'status': 'buy 1 unit, cost 15.000000', 'timestamp': '2019-05-26 01:12:10.306007'}\n",
      "{'action': 'buy', 'balance': 954.4100000000001, 'status': 'buy 1 unit, cost 15.500000', 'timestamp': '2019-05-26 01:12:10.308144'}\n",
      "{'action': 'nothing', 'balance': 954.4100000000001, 'status': 'do nothing', 'timestamp': '2019-05-26 01:12:10.310288'}\n",
      "{'action': 'nothing', 'balance': 954.4100000000001, 'status': 'do nothing', 'timestamp': '2019-05-26 01:12:10.312943'}\n",
      "{'action': 'nothing', 'balance': 954.4100000000001, 'status': 'do nothing', 'timestamp': '2019-05-26 01:12:10.315401'}\n",
      "{'action': 'nothing', 'balance': 954.4100000000001, 'status': 'do nothing', 'timestamp': '2019-05-26 01:12:10.323312'}\n",
      "{'action': 'nothing', 'balance': 954.4100000000001, 'status': 'do nothing', 'timestamp': '2019-05-26 01:12:10.335969'}\n",
      "{'action': 'nothing', 'balance': 954.4100000000001, 'status': 'do nothing', 'timestamp': '2019-05-26 01:12:10.345259'}\n",
      "{'action': 'nothing', 'balance': 954.4100000000001, 'status': 'do nothing', 'timestamp': '2019-05-26 01:12:10.351807'}\n",
      "{'action': 'nothing', 'balance': 954.4100000000001, 'status': 'do nothing', 'timestamp': '2019-05-26 01:12:10.360970'}\n",
      "{'action': 'nothing', 'balance': 954.4100000000001, 'status': 'do nothing', 'timestamp': '2019-05-26 01:12:10.365687'}\n",
      "{'action': 'sell', 'balance': 971.1199990000001, 'investment': '10.224268 %', 'status': 'sell 1 unit, price 16.709999', 'timestamp': '2019-05-26 01:12:10.370206'}\n",
      "{'action': 'nothing', 'balance': 971.1199990000001, 'status': 'do nothing', 'timestamp': '2019-05-26 01:12:10.376245'}\n",
      "{'action': 'sell', 'balance': 987.7799990000001, 'investment': '11.066667 %', 'status': 'sell 1 unit, price 16.660000', 'timestamp': '2019-05-26 01:12:10.382282'}\n",
      "{'action': 'nothing', 'balance': 987.7799990000001, 'status': 'do nothing', 'timestamp': '2019-05-26 01:12:10.388330'}\n",
      "{'action': 'nothing', 'balance': 987.7799990000001, 'status': 'do nothing', 'timestamp': '2019-05-26 01:12:10.394324'}\n",
      "{'action': 'sell', 'balance': 1006.1299990000001, 'investment': '18.387097 %', 'status': 'sell 1 unit, price 18.350000', 'timestamp': '2019-05-26 01:12:10.400104'}\n",
      "{'action': 'nothing', 'balance': 1006.1299990000001, 'status': 'do nothing', 'timestamp': '2019-05-26 01:12:10.405804'}\n",
      "{'action': 'nothing', 'balance': 1006.1299990000001, 'status': 'do nothing', 'timestamp': '2019-05-26 01:12:10.411531'}\n",
      "{'action': 'nothing', 'balance': 1006.1299990000001, 'status': 'do nothing', 'timestamp': '2019-05-26 01:12:10.417223'}\n",
      "{'action': 'nothing', 'balance': 1006.1299990000001, 'status': 'do nothing', 'timestamp': '2019-05-26 01:12:10.422885'}\n",
      "{'action': 'nothing', 'balance': 1006.1299990000001, 'status': 'do nothing', 'timestamp': '2019-05-26 01:12:10.428601'}\n",
      "{'action': 'nothing', 'balance': 1006.1299990000001, 'status': 'do nothing', 'timestamp': '2019-05-26 01:12:10.434266'}\n",
      "{'action': 'buy', 'balance': 986.6999990000002, 'status': 'buy 1 unit, cost 19.430000', 'timestamp': '2019-05-26 01:12:10.439925'}\n",
      "{'action': 'buy', 'balance': 967.1400000000002, 'status': 'buy 1 unit, cost 19.559999', 'timestamp': '2019-05-26 01:12:10.445653'}\n",
      "{'action': 'sell', 'balance': 986.7200000000003, 'investment': '0.772002 %', 'status': 'sell 1 unit, price 19.580000', 'timestamp': '2019-05-26 01:12:10.452762'}\n",
      "{'action': 'sell', 'balance': 1005.8200000000003, 'investment': '-2.351733 %', 'status': 'sell 1 unit, price 19.100000', 'timestamp': '2019-05-26 01:12:10.458693'}\n",
      "{'action': 'nothing', 'balance': 1005.8200000000003, 'status': 'do nothing', 'timestamp': '2019-05-26 01:12:10.464294'}\n",
      "{'action': 'buy', 'balance': 986.0900000000003, 'status': 'buy 1 unit, cost 19.730000', 'timestamp': '2019-05-26 01:12:10.469807'}\n",
      "{'action': 'nothing', 'balance': 986.0900000000003, 'status': 'do nothing', 'timestamp': '2019-05-26 01:12:10.475364'}\n",
      "{'action': 'nothing', 'balance': 986.0900000000003, 'status': 'do nothing', 'timestamp': '2019-05-26 01:12:10.480906'}\n",
      "{'action': 'nothing', 'balance': 986.0900000000003, 'status': 'do nothing', 'timestamp': '2019-05-26 01:12:10.486471'}\n",
      "{'action': 'nothing', 'balance': 986.0900000000003, 'status': 'do nothing', 'timestamp': '2019-05-26 01:12:10.491962'}\n",
      "{'action': 'sell', 'balance': 1006.0700000000003, 'investment': '1.267106 %', 'status': 'sell 1 unit, price 19.980000', 'timestamp': '2019-05-26 01:12:10.497261'}\n",
      "{'action': 'buy', 'balance': 985.6700000000003, 'status': 'buy 1 unit, cost 20.400000', 'timestamp': '2019-05-26 01:12:10.502458'}\n",
      "{'action': 'nothing', 'balance': 985.6700000000003, 'status': 'do nothing', 'timestamp': '2019-05-26 01:12:10.507676'}\n",
      "{'action': 'buy', 'balance': 963.3799990000003, 'status': 'buy 1 unit, cost 22.290001', 'timestamp': '2019-05-26 01:12:10.512933'}\n",
      "{'action': 'nothing', 'balance': 963.3799990000003, 'status': 'do nothing', 'timestamp': '2019-05-26 01:12:10.518139'}\n",
      "{'action': 'nothing', 'balance': 963.3799990000003, 'status': 'do nothing', 'timestamp': '2019-05-26 01:12:10.526727'}\n",
      "{'action': 'nothing', 'balance': 963.3799990000003, 'status': 'do nothing', 'timestamp': '2019-05-26 01:12:10.532616'}\n",
      "{'action': 'sell', 'balance': 988.5800000000004, 'investment': '23.529417 %', 'status': 'sell 1 unit, price 25.200001', 'timestamp': '2019-05-26 01:12:10.541696'}\n",
      "{'action': 'sell', 'balance': 1013.4699990000004, 'investment': '11.664414 %', 'status': 'sell 1 unit, price 24.889999', 'timestamp': '2019-05-26 01:12:10.549314'}\n",
      "{'action': 'nothing', 'balance': 1013.4699990000004, 'status': 'do nothing', 'timestamp': '2019-05-26 01:12:10.556684'}\n",
      "{'action': 'nothing', 'balance': 1013.4699990000004, 'status': 'do nothing', 'timestamp': '2019-05-26 01:12:10.562295'}\n",
      "{'action': 'nothing', 'balance': 1013.4699990000004, 'status': 'do nothing', 'timestamp': '2019-05-26 01:12:10.568146'}\n",
      "{'action': 'nothing', 'balance': 1013.4699990000004, 'status': 'do nothing', 'timestamp': '2019-05-26 01:12:10.576883'}\n",
      "{'action': 'buy', 'balance': 986.0900000000004, 'status': 'buy 1 unit, cost 27.379999', 'timestamp': '2019-05-26 01:12:10.580112'}\n",
      "{'action': 'sell', 'balance': 1015.9799990000004, 'investment': '9.167276 %', 'status': 'sell 1 unit, price 29.889999', 'timestamp': '2019-05-26 01:12:10.585567'}\n",
      "{'action': 'nothing', 'balance': 1015.9799990000004, 'status': 'do nothing', 'timestamp': '2019-05-26 01:12:10.591411'}\n",
      "{'action': 'nothing', 'balance': 1015.9799990000004, 'status': 'do nothing', 'timestamp': '2019-05-26 01:12:10.597109'}\n",
      "{'action': 'nothing', 'balance': 1015.9799990000004, 'status': 'do nothing', 'timestamp': '2019-05-26 01:12:10.602807'}\n",
      "{'action': 'nothing', 'balance': 1015.9799990000004, 'status': 'do nothing', 'timestamp': '2019-05-26 01:12:10.608485'}\n",
      "{'action': 'nothing', 'balance': 1015.9799990000004, 'status': 'do nothing', 'timestamp': '2019-05-26 01:12:10.616959'}\n",
      "{'action': 'nothing', 'balance': 1015.9799990000004, 'status': 'do nothing', 'timestamp': '2019-05-26 01:12:10.625742'}\n",
      "{'action': 'nothing', 'balance': 1015.9799990000004, 'status': 'do nothing', 'timestamp': '2019-05-26 01:12:10.628134'}\n",
      "{'action': 'nothing', 'balance': 1015.9799990000004, 'status': 'do nothing', 'timestamp': '2019-05-26 01:12:10.630195'}\n",
      "{'action': 'buy', 'balance': 984.9599990000004, 'status': 'buy 1 unit, cost 31.020000', 'timestamp': '2019-05-26 01:12:10.632225'}\n",
      "{'action': 'buy', 'balance': 952.3499980000004, 'status': 'buy 1 unit, cost 32.610001', 'timestamp': '2019-05-26 01:12:10.637733'}\n",
      "{'action': 'buy', 'balance': 919.7799980000003, 'status': 'buy 1 unit, cost 32.570000', 'timestamp': '2019-05-26 01:12:10.643667'}\n",
      "{'action': 'sell', 'balance': 951.9699970000004, 'investment': '3.771757 %', 'status': 'sell 1 unit, price 32.189999', 'timestamp': '2019-05-26 01:12:10.649434'}\n"
     ]
    },
    {
     "name": "stdout",
     "output_type": "stream",
     "text": [
      "{'action': 'sell', 'balance': 984.5599970000004, 'investment': '-0.061334 %', 'status': 'sell 1 unit, price 32.590000', 'timestamp': '2019-05-26 01:12:10.655115'}\n",
      "{'action': 'buy', 'balance': 953.6699980000004, 'status': 'buy 1 unit, cost 30.889999', 'timestamp': '2019-05-26 01:12:10.662295'}\n",
      "{'action': 'nothing', 'balance': 953.6699980000004, 'status': 'do nothing', 'timestamp': '2019-05-26 01:12:10.668052'}\n",
      "{'action': 'nothing', 'balance': 953.6699980000004, 'status': 'do nothing', 'timestamp': '2019-05-26 01:12:10.673750'}\n",
      "{'action': 'nothing', 'balance': 953.6699980000004, 'status': 'do nothing', 'timestamp': '2019-05-26 01:12:10.679499'}\n",
      "{'action': 'nothing', 'balance': 953.6699980000004, 'status': 'do nothing', 'timestamp': '2019-05-26 01:12:10.685268'}\n",
      "{'action': 'nothing', 'balance': 953.6699980000004, 'status': 'do nothing', 'timestamp': '2019-05-26 01:12:10.691005'}\n",
      "{'action': 'sell', 'balance': 980.1299970000005, 'investment': '-18.759598 %', 'status': 'sell 1 unit, price 26.459999', 'timestamp': '2019-05-26 01:12:10.696766'}\n",
      "{'action': 'buy', 'balance': 952.8899970000004, 'status': 'buy 1 unit, cost 27.240000', 'timestamp': '2019-05-26 01:12:10.702640'}\n",
      "{'action': 'nothing', 'balance': 952.8899970000004, 'status': 'do nothing', 'timestamp': '2019-05-26 01:12:10.708653'}\n",
      "{'action': 'nothing', 'balance': 952.8899970000004, 'status': 'do nothing', 'timestamp': '2019-05-26 01:12:10.714534'}\n",
      "{'action': 'buy', 'balance': 926.5499970000004, 'status': 'buy 1 unit, cost 26.340000', 'timestamp': '2019-05-26 01:12:10.720363'}\n"
     ]
    }
   ],
   "source": [
    "for i in range(100):\n",
    "    data = json.dumps([close[i], volume[i]])\n",
    "    requested = requests.get('http://localhost:8005/trade?data=' + data).json()\n",
    "    print(requested)"
   ]
  },
  {
   "cell_type": "markdown",
   "metadata": {},
   "source": [
    "Some of investments are really doing good job, you can see some more than positive 10% investment there."
   ]
  }
 ],
 "metadata": {
  "kernelspec": {
   "display_name": "Python 3",
   "language": "python",
   "name": "python3"
  },
  "language_info": {
   "codemirror_mode": {
    "name": "ipython",
    "version": 3
   },
   "file_extension": ".py",
   "mimetype": "text/x-python",
   "name": "python",
   "nbconvert_exporter": "python",
   "pygments_lexer": "ipython3",
   "version": "3.6.8"
  }
 },
 "nbformat": 4,
 "nbformat_minor": 2
}
